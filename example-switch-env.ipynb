{
 "cells": [
  {
   "cell_type": "code",
   "execution_count": 19,
   "id": "a1523802-d28b-4b1f-8afe-6898aa5d434b",
   "metadata": {},
   "outputs": [
    {
     "name": "stdout",
     "output_type": "stream",
     "text": [
      "no change     /opt/conda/condabin/conda\n",
      "no change     /opt/conda/bin/conda\n",
      "no change     /opt/conda/bin/conda-env\n",
      "no change     /opt/conda/bin/activate\n",
      "no change     /opt/conda/bin/deactivate\n",
      "no change     /opt/conda/etc/profile.d/conda.sh\n",
      "no change     /opt/conda/etc/fish/conf.d/conda.fish\n",
      "no change     /opt/conda/shell/condabin/Conda.psm1\n",
      "no change     /opt/conda/shell/condabin/conda-hook.ps1\n",
      "no change     /opt/conda/lib/python3.9/site-packages/xontrib/conda.xsh\n",
      "no change     /opt/conda/etc/profile.d/conda.csh\n",
      "no change     /home/jovyan/.bashrc\n",
      "No action taken.\n",
      "\n",
      "CommandNotFoundError: Your shell has not been properly configured to use 'conda activate'.\n",
      "To initialize your shell, run\n",
      "\n",
      "    $ conda init <SHELL_NAME>\n",
      "\n",
      "Currently supported shells are:\n",
      "  - bash\n",
      "  - fish\n",
      "  - tcsh\n",
      "  - xonsh\n",
      "  - zsh\n",
      "  - powershell\n",
      "\n",
      "See 'conda init --help' for more information and options.\n",
      "\n",
      "IMPORTANT: You may need to close and restart your shell after running 'conda init'.\n",
      "\n",
      "\n"
     ]
    }
   ],
   "source": [
    "# Initialize Conda\n",
    "!source /opt/conda/etc/profile.d/conda.sh\n",
    "!conda init bash\n",
    "!conda activate Freestyle38"
   ]
  },
  {
   "cell_type": "code",
   "execution_count": 15,
   "id": "e783147b-48ac-4508-90c5-9d147e147868",
   "metadata": {},
   "outputs": [
    {
     "name": "stdout",
     "output_type": "stream",
     "text": [
      "# conda environments:\n",
      "#\n",
      "base                  *  /opt/conda\n",
      "Freestyle                /opt/conda/envs/Freestyle\n",
      "Freestyle38              /opt/conda/envs/Freestyle38\n",
      "UdacityAI                /opt/conda/envs/UdacityAI\n",
      "\n"
     ]
    }
   ],
   "source": [
    "# List Environments\n",
    "!conda env list"
   ]
  },
  {
   "cell_type": "code",
   "execution_count": 16,
   "id": "d325b9ba-fec6-4791-b28a-0c060524f7f3",
   "metadata": {},
   "outputs": [
    {
     "name": "stdout",
     "output_type": "stream",
     "text": [
      "\n",
      "CommandNotFoundError: Your shell has not been properly configured to use 'conda activate'.\n",
      "To initialize your shell, run\n",
      "\n",
      "    $ conda init <SHELL_NAME>\n",
      "\n",
      "Currently supported shells are:\n",
      "  - bash\n",
      "  - fish\n",
      "  - tcsh\n",
      "  - xonsh\n",
      "  - zsh\n",
      "  - powershell\n",
      "\n",
      "See 'conda init --help' for more information and options.\n",
      "\n",
      "IMPORTANT: You may need to close and restart your shell after running 'conda init'.\n",
      "\n",
      "\n",
      "# conda environments:\n",
      "#\n",
      "base                  *  /opt/conda\n",
      "Freestyle                /opt/conda/envs/Freestyle\n",
      "Freestyle38              /opt/conda/envs/Freestyle38\n",
      "UdacityAI                /opt/conda/envs/UdacityAI\n",
      "\n"
     ]
    }
   ],
   "source": [
    "# Switch Conda Environments\n",
    "condaEnv = 'Freestyle38'\n",
    "\n",
    "!conda activate Freestyle38\n",
    "\n",
    "!conda env list"
   ]
  },
  {
   "cell_type": "code",
   "execution_count": 3,
   "id": "44d7d203-7c93-4933-bf85-c36722281101",
   "metadata": {},
   "outputs": [
    {
     "name": "stdout",
     "output_type": "stream",
     "text": [
      "\n",
      "CommandNotFoundError: Your shell has not been properly configured to use 'conda activate'.\n",
      "To initialize your shell, run\n",
      "\n",
      "    $ conda init <SHELL_NAME>\n",
      "\n",
      "Currently supported shells are:\n",
      "  - bash\n",
      "  - fish\n",
      "  - tcsh\n",
      "  - xonsh\n",
      "  - zsh\n",
      "  - powershell\n",
      "\n",
      "See 'conda init --help' for more information and options.\n",
      "\n",
      "IMPORTANT: You may need to close and restart your shell after running 'conda init'.\n",
      "\n",
      "\n",
      "Python 3.9.6\n"
     ]
    }
   ],
   "source": [
    "!conda activate Freestyle38\n",
    "!python3 --version"
   ]
  },
  {
   "cell_type": "code",
   "execution_count": null,
   "id": "17bc2436-5177-4a6c-9d46-d5f4ec6b1896",
   "metadata": {},
   "outputs": [],
   "source": []
  }
 ],
 "metadata": {
  "kernelspec": {
   "display_name": "UdacityAI (3.6)",
   "language": "python",
   "name": "udacityai"
  },
  "language_info": {
   "codemirror_mode": {
    "name": "ipython",
    "version": 3
   },
   "file_extension": ".py",
   "mimetype": "text/x-python",
   "name": "python",
   "nbconvert_exporter": "python",
   "pygments_lexer": "ipython3",
   "version": "3.6.15"
  }
 },
 "nbformat": 4,
 "nbformat_minor": 5
}
