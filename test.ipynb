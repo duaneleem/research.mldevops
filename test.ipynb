{
 "cells": [
  {
   "cell_type": "code",
   "execution_count": null,
   "id": "2779ea7a-97a7-4736-9fc4-68f36f1bf556",
   "metadata": {},
   "outputs": [],
   "source": [
    "# !pip install mechanicalsoup"
   ]
  },
  {
   "cell_type": "code",
   "execution_count": 17,
   "id": "fe8fa902-9e34-43e7-a145-0057e84d140b",
   "metadata": {},
   "outputs": [],
   "source": [
    "\"\"\"\n",
    "Example usage of MechanicalSoup to get the results from DuckDuckGo.\n",
    "\"\"\"\n",
    "\n",
    "import mechanicalsoup\n",
    "\n",
    "\n",
    "# Connect to duckduckgo\n",
    "browser = mechanicalsoup.StatefulBrowser(user_agent=\"MechanicalSoup\")\n",
    "browser.open(\"https://www.cnn.com/\")\n",
    "\n",
    "# Fill-in the search form\n",
    "browser.select_form('#search_form_homepage')\n",
    "browser[\"q\"] = \"MechanicalSoup\"\n",
    "browser.submit_selected()\n",
    "\n",
    "# Display the results\n",
    "for link in browser.page.select('a.result__a'):\n",
    "    print(link.text, '->', link.attrs['href'])"
   ]
  },
  {
   "cell_type": "code",
   "execution_count": 16,
   "id": "f80c402c-7918-413c-8701-a60d46e2a6ba",
   "metadata": {},
   "outputs": [
    {
     "data": {
      "text/plain": [
       "[]"
      ]
     },
     "execution_count": 16,
     "metadata": {},
     "output_type": "execute_result"
    }
   ],
   "source": [
    "browser.page.select('a.result__a')"
   ]
  },
  {
   "cell_type": "code",
   "execution_count": 21,
   "id": "0e15b6fd-c654-4468-a86f-df11057c19e8",
   "metadata": {},
   "outputs": [
    {
     "name": "stdout",
     "output_type": "stream",
     "text": [
      "Empty DataFrame\n",
      "Columns: [Column_Name]\n",
      "Index: []\n"
     ]
    }
   ],
   "source": [
    "import mechanicalsoup\n",
    "import pandas as pd\n",
    "\n",
    "# Create a browser object\n",
    "browser = mechanicalsoup.StatefulBrowser()\n",
    "\n",
    "# URL of the webpage\n",
    "url = \"https://www.zillow.com/homes/for_sale/brentwood,-ca_rb/\"\n",
    "\n",
    "# Navigate to the URL\n",
    "response = browser.open(url)\n",
    "\n",
    "# Get the BeautifulSoup object from the response\n",
    "soup = browser.get_current_page()\n",
    "\n",
    "# Find the ul with class 'photo-cards'\n",
    "ul = soup.select_one('ul.photo-cards_extra-attribution')\n",
    "\n",
    "# Now, find all li elements in that ul\n",
    "lis = ul.find_all('li') if ul else []\n",
    "\n",
    "# Process the li elements as needed...\n",
    "data = [li.text for li in lis]\n",
    "\n",
    "# Create a pandas dataframe\n",
    "df = pd.DataFrame(data, columns=[\"Column_Name\"])\n",
    "\n",
    "print(df)\n"
   ]
  },
  {
   "cell_type": "markdown",
   "id": "6bf5409d-94bd-4ab6-aeff-cbb1a2bb2598",
   "metadata": {},
   "source": [
    "```\n",
    "'https://www.zillow.com/homes/for_sale/brentwood,-ca_rb/'\n",
    "\n",
    "```"
   ]
  },
  {
   "cell_type": "code",
   "execution_count": 24,
   "id": "eb8b874d-57cc-445e-9380-ba8372805bab",
   "metadata": {},
   "outputs": [
    {
     "name": "stdout",
     "output_type": "stream",
     "text": [
      "<!DOCTYPE html>\n",
      "<html lang=\"en\">\n",
      "<head>\n",
      "<meta charset=\"utf-8\"/>\n",
      "<meta content=\"width=device-width, initial-scale=1\" name=\"viewport\"/>\n",
      "<meta content=\"px-captcha\" name=\"description\"/>\n",
      "<title>Access to this page has been denied</title>\n",
      "</head>\n",
      "<body>\n",
      "<script>\n",
      "    /* PerimeterX assignments */\n",
      "    window._pxVid = '';\n",
      "    window._pxUuid = '7def63f7-ff14-11ed-95e2-434a636a6e53';\n",
      "    window._pxAppId = 'PXHYx10rg3';\n",
      "    window._pxMobile = false;\n",
      "    window._pxHostUrl = '/HYx10rg3/xhr';\n",
      "    window._pxCustomLogo = 'https://www.zillowstatic.com/s3/pfs/static/z-logo-default.svg';\n",
      "    window._pxJsClientSrc = '/HYx10rg3/init.js';\n",
      "    window._pxFirstPartyEnabled = true;\n",
      "    var pxCaptchaSrc = '/HYx10rg3/captcha/captcha.js?a=c&u=7def63f7-ff14-11ed-95e2-434a636a6e53&v=&m=0';\n",
      "\n",
      "    var script = document.createElement('script');\n",
      "    script.src = pxCaptchaSrc;\n",
      "    script.onerror = function () {\n",
      "        script = document.createElement('script');\n",
      "        script.src = 'https://captcha.px-cloud.net/PXHYx10rg3/captcha.js?a=c&amp;u=7def63f7-ff14-11ed-95e2-434a636a6e53&amp;v=&amp;m=0';\n",
      "        script.onerror = window._pxOnError;\n",
      "        document.head.appendChild(script);\n",
      "    };\n",
      "    window._pxOnError = function () {\n",
      "        var style = document.createElement('style');\n",
      "        style.innerText = '@import url(https://fonts.googleapis.com/css2?family=Roboto:ital,wght@0,100;0,300;0,400;0,500;0,700;0,900;1,100;1,300;1,400;1,500;1,700;1,900&display=swap);body{background-color:#fafbfc}.px-captcha-error-container{position:fixed;height:340px;background-color:#fff;font-family:Roboto,sans-serif}.px-captcha-error-header{color:#f0f1f2;font-size:29px;margin:67px 0 33px;font-weight:500;line-height:.83;text-align:center}.px-captcha-error-message{color:#f0f1f2;font-size:18px;margin:0 0 29px;line-height:1.33;text-align:center}.px-captcha-error-button{text-align:center;line-height:48px;width:253px;margin:auto;border-radius:50px;border:solid 1px #f0f1f2;font-size:20px;color:#f0f1f2}.px-captcha-error-wrapper{margin:18px 0 0}div.px-captcha-error{margin:auto;text-align:center;width:400px;height:30px;font-size:12px;background-color:#fcf0f2;color:#ce0e2d}img.px-captcha-error{margin:6px 8px -2px 0}.px-captcha-error-refid{border-top:solid 1px #f0eeee;height:27px;margin:13px 0 0;border-radius:0 0 3px 3px;background-color:#fafbfc;font-size:10px;line-height:2.5;text-align:center;color:#b1b5b8}@media (min-width:620px){.px-captcha-error-container{width:530px;top:50%;left:50%;margin-top:-170px;margin-left:-265px;border-radius:3px;box-shadow:0 2px 9px -1px rgba(0,0,0,.13)}}@media (min-width:481px) and (max-width:620px){.px-captcha-error-container{width:85%;top:50%;left:50%;margin-top:-170px;margin-left:-42.5%;border-radius:3px;box-shadow:0 2px 9px -1px rgba(0,0,0,.13)}}@media (max-width:480px){body{background-color:#fff}.px-captcha-error-header{color:#f0f1f2;font-size:29px;margin:55px 0 33px}.px-captcha-error-container{width:530px;top:50%;left:50%;margin-top:-170px;margin-left:-265px}.px-captcha-error-refid{position:fixed;width:100%;left:0;bottom:0;border-radius:0;font-size:14px;line-height:2}}@media (max-width:390px){div.px-captcha-error{font-size:10px}.px-captcha-error-refid{font-size:11px;line-height:2.5}}';\n",
      "        document.head.appendChild(style);\n",
      "        var div = document.createElement('div');\n",
      "        div.className = 'px-captcha-error-container';\n",
      "        div.innerHTML = '<div class=\"px-captcha-error-header\">Before we continue...</div><div class=\"px-captcha-error-message\">Press & Hold to confirm you are<br>a human (and not a bot).</div><div class=\"px-captcha-error-button\">Press & Hold</div><div class=\"px-captcha-error-wrapper\"><div class=\"px-captcha-error\"><img class=\"px-captcha-error\" src=\"data:image/png;base64,iVBORw0KGgoAAAANSUhEUgAAABMAAAAQCAMAAADDGrRQAAAABGdBTUEAALGPC/xhBQAAAAFzUkdCAK7OHOkAAABFUExURUdwTNYELOEGONQILd0AONwALtwEL+AAL9MFLfkJSNQGLdMJLdQJLdQGLdQKLtYFLNcELdUGLdcBL9gFL88OLdUFLNEOLglBhT4AAAAXdFJOUwC8CqgNIRgRoAS1dWWuR4RTjzgryZpYblfkcAAAAI9JREFUGNNdj+sWhCAIhAdvqGVa1r7/oy6RZ7eaH3D4ZACBIed9wlOOMtUnSrEmZ6cHa9YAIfsbCkWrdpi/c50Bk2CO9mNLdMAu03wJA3HpEnfpxbyOg6ruyx8JJi6KNstnslp1dbPd9GnqmuYq7mmcv1zjnbQw8cV0xzkqo+fX1zkjUOO7wnrInUTxJiruC3vtBNRoQQn2AAAAAElFTkSuQmCC\">Please check your internet connection' + (window._pxMobile ? '' : ' or disable your ad-blocker') + '.</div></div><div class=\"px-captcha-error-refid\">Reference ID ' + window._pxUuid + '</div>';\n",
      "        document.body.appendChild(div);\n",
      "        if (window._pxMobile) {\n",
      "            setTimeout(function() {\n",
      "                location.href = '/px/captcha_close?status=-1';\n",
      "            }, 5000);\n",
      "        }\n",
      "    };\n",
      "    document.head.appendChild(script);\n",
      "</script>\n",
      "</body>\n",
      "</html>\n",
      "\n"
     ]
    }
   ],
   "source": [
    "import mechanicalsoup\n",
    "import pandas as pd\n",
    "from bs4 import BeautifulSoup\n",
    "\n",
    "# Create a browser object\n",
    "browser = mechanicalsoup.StatefulBrowser()\n",
    "\n",
    "# Define the URL\n",
    "url = 'https://www.zillow.com/homes/for_sale/brentwood,-ca_rb/'\n",
    "\n",
    "# Use the browser to get the page\n",
    "browser.open(url)\n",
    "\n",
    "# Get the HTML from the page\n",
    "soup = browser.get_current_page()\n",
    "\n",
    "print(soup)"
   ]
  },
  {
   "cell_type": "code",
   "execution_count": null,
   "id": "eefcb16d-6190-4d38-a281-d08a750ce941",
   "metadata": {},
   "outputs": [],
   "source": []
  }
 ],
 "metadata": {
  "kernelspec": {
   "display_name": "Python 3 (ipykernel)",
   "language": "python",
   "name": "python3"
  },
  "language_info": {
   "codemirror_mode": {
    "name": "ipython",
    "version": 3
   },
   "file_extension": ".py",
   "mimetype": "text/x-python",
   "name": "python",
   "nbconvert_exporter": "python",
   "pygments_lexer": "ipython3",
   "version": "3.9.6"
  }
 },
 "nbformat": 4,
 "nbformat_minor": 5
}
