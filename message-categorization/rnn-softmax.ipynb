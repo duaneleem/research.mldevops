{
 "cells": [
  {
   "cell_type": "code",
   "execution_count": 2,
   "id": "f2725fa9-4479-4182-a3df-58a324deb35e",
   "metadata": {},
   "outputs": [
    {
     "name": "stderr",
     "output_type": "stream",
     "text": [
      "2022-12-28 17:15:12.680616: I tensorflow/core/platform/cpu_feature_guard.cc:193] This TensorFlow binary is optimized with oneAPI Deep Neural Network Library (oneDNN) to use the following CPU instructions in performance-critical operations:  AVX2 FMA\n",
      "To enable them in other operations, rebuild TensorFlow with the appropriate compiler flags.\n",
      "2022-12-28 17:15:12.800076: W tensorflow/compiler/xla/stream_executor/platform/default/dso_loader.cc:64] Could not load dynamic library 'libcudart.so.11.0'; dlerror: libcudart.so.11.0: cannot open shared object file: No such file or directory\n",
      "2022-12-28 17:15:12.800125: I tensorflow/compiler/xla/stream_executor/cuda/cudart_stub.cc:29] Ignore above cudart dlerror if you do not have a GPU set up on your machine.\n",
      "2022-12-28 17:15:13.535447: W tensorflow/compiler/xla/stream_executor/platform/default/dso_loader.cc:64] Could not load dynamic library 'libnvinfer.so.7'; dlerror: libnvinfer.so.7: cannot open shared object file: No such file or directory\n",
      "2022-12-28 17:15:13.535542: W tensorflow/compiler/xla/stream_executor/platform/default/dso_loader.cc:64] Could not load dynamic library 'libnvinfer_plugin.so.7'; dlerror: libnvinfer_plugin.so.7: cannot open shared object file: No such file or directory\n",
      "2022-12-28 17:15:13.535553: W tensorflow/compiler/tf2tensorrt/utils/py_utils.cc:38] TF-TRT Warning: Cannot dlopen some TensorRT libraries. If you would like to use Nvidia GPU with TensorRT, please make sure the missing libraries mentioned above are installed properly.\n"
     ]
    }
   ],
   "source": [
    "import tensorflow as tf\n",
    "import numpy as np\n",
    "import string"
   ]
  },
  {
   "cell_type": "code",
   "execution_count": 3,
   "id": "2b5cd099-0fa2-493d-9034-ca1d5af7a181",
   "metadata": {},
   "outputs": [],
   "source": [
    "# Define the categories\n",
    "num_categories = 3\n",
    "categories = ['greetings', 'questions', 'statements']"
   ]
  },
  {
   "cell_type": "code",
   "execution_count": 4,
   "id": "d1d3af7e-b953-463b-a48d-e2fdb16336cc",
   "metadata": {},
   "outputs": [],
   "source": [
    "# Sample chat messages\n",
    "messages = [\n",
    "    'Hi there!',\n",
    "    'How are you?',\n",
    "    'I love cats.'\n",
    "]\n"
   ]
  },
  {
   "cell_type": "code",
   "execution_count": 5,
   "id": "405fb382-1ac9-4fae-b508-72e54cb99dbf",
   "metadata": {},
   "outputs": [],
   "source": [
    "# Define the vocabulary\n",
    "vocab = string.ascii_lowercase + string.ascii_uppercase + string.digits + string.punctuation + ' '\n",
    "\n",
    "# Convert the chat messages into numerical data using one-hot encoding\n",
    "def one_hot_encode(messages, vocabulary_size):\n",
    "  messages_encoded = []\n",
    "  for message in messages:\n",
    "    message_encoded = [0] * len(vocab)\n",
    "    for char in message:\n",
    "      message_encoded[vocab.index(char)] = 1\n",
    "    messages_encoded.append(message_encoded)\n",
    "  return messages_encoded"
   ]
  },
  {
   "cell_type": "code",
   "execution_count": 6,
   "id": "03e944c0-ab01-4e1a-8c04-62a9ced1ba8b",
   "metadata": {},
   "outputs": [],
   "source": [
    "# One-hot encode the chat messages\n",
    "X = one_hot_encode(messages, len(vocab))"
   ]
  },
  {
   "cell_type": "code",
   "execution_count": 7,
   "id": "3b378ade-b185-4d52-af69-26f26ce371e4",
   "metadata": {},
   "outputs": [],
   "source": [
    "# Define the labels\n",
    "y = [0, 1, 2]"
   ]
  },
  {
   "cell_type": "code",
   "execution_count": 8,
   "id": "c6762ff9-da50-4e32-87b9-43268ba8eced",
   "metadata": {
    "scrolled": true,
    "tags": []
   },
   "outputs": [
    {
     "name": "stderr",
     "output_type": "stream",
     "text": [
      "2022-12-28 17:15:14.446111: W tensorflow/compiler/xla/stream_executor/platform/default/dso_loader.cc:64] Could not load dynamic library 'libcuda.so.1'; dlerror: libcuda.so.1: cannot open shared object file: No such file or directory\n",
      "2022-12-28 17:15:14.446153: W tensorflow/compiler/xla/stream_executor/cuda/cuda_driver.cc:265] failed call to cuInit: UNKNOWN ERROR (303)\n",
      "2022-12-28 17:15:14.446176: I tensorflow/compiler/xla/stream_executor/cuda/cuda_diagnostics.cc:156] kernel driver does not appear to be running on this host (7bf2db305a5c): /proc/driver/nvidia/version does not exist\n",
      "2022-12-28 17:15:14.447224: I tensorflow/core/platform/cpu_feature_guard.cc:193] This TensorFlow binary is optimized with oneAPI Deep Neural Network Library (oneDNN) to use the following CPU instructions in performance-critical operations:  AVX2 FMA\n",
      "To enable them in other operations, rebuild TensorFlow with the appropriate compiler flags.\n"
     ]
    },
    {
     "name": "stdout",
     "output_type": "stream",
     "text": [
      "Epoch 1/40\n",
      "1/1 [==============================] - 2s 2s/step - loss: 1.0988 - accuracy: 0.3333\n",
      "Epoch 2/40\n",
      "1/1 [==============================] - 0s 25ms/step - loss: 1.0986 - accuracy: 0.3333\n",
      "Epoch 3/40\n",
      "1/1 [==============================] - 0s 28ms/step - loss: 1.0985 - accuracy: 0.3333\n",
      "Epoch 4/40\n",
      "1/1 [==============================] - 0s 26ms/step - loss: 1.0985 - accuracy: 0.3333\n",
      "Epoch 5/40\n",
      "1/1 [==============================] - 0s 26ms/step - loss: 1.0984 - accuracy: 0.3333\n",
      "Epoch 6/40\n",
      "1/1 [==============================] - 0s 22ms/step - loss: 1.0984 - accuracy: 0.3333\n",
      "Epoch 7/40\n",
      "1/1 [==============================] - 0s 27ms/step - loss: 1.0983 - accuracy: 0.3333\n",
      "Epoch 8/40\n",
      "1/1 [==============================] - 0s 23ms/step - loss: 1.0983 - accuracy: 0.3333\n",
      "Epoch 9/40\n",
      "1/1 [==============================] - 0s 23ms/step - loss: 1.0982 - accuracy: 0.3333\n",
      "Epoch 10/40\n",
      "1/1 [==============================] - 0s 24ms/step - loss: 1.0981 - accuracy: 0.3333\n",
      "Epoch 11/40\n",
      "1/1 [==============================] - 0s 23ms/step - loss: 1.0981 - accuracy: 0.3333\n",
      "Epoch 12/40\n",
      "1/1 [==============================] - 0s 25ms/step - loss: 1.0980 - accuracy: 0.6667\n",
      "Epoch 13/40\n",
      "1/1 [==============================] - 0s 25ms/step - loss: 1.0979 - accuracy: 0.3333\n",
      "Epoch 14/40\n",
      "1/1 [==============================] - 0s 24ms/step - loss: 1.0978 - accuracy: 0.3333\n",
      "Epoch 15/40\n",
      "1/1 [==============================] - 0s 24ms/step - loss: 1.0977 - accuracy: 0.3333\n",
      "Epoch 16/40\n",
      "1/1 [==============================] - 0s 26ms/step - loss: 1.0976 - accuracy: 0.3333\n",
      "Epoch 17/40\n",
      "1/1 [==============================] - 0s 26ms/step - loss: 1.0975 - accuracy: 0.3333\n",
      "Epoch 18/40\n",
      "1/1 [==============================] - 0s 27ms/step - loss: 1.0973 - accuracy: 0.3333\n",
      "Epoch 19/40\n",
      "1/1 [==============================] - 0s 27ms/step - loss: 1.0972 - accuracy: 0.3333\n",
      "Epoch 20/40\n",
      "1/1 [==============================] - 0s 22ms/step - loss: 1.0970 - accuracy: 0.3333\n",
      "Epoch 21/40\n",
      "1/1 [==============================] - 0s 22ms/step - loss: 1.0968 - accuracy: 0.3333\n",
      "Epoch 22/40\n",
      "1/1 [==============================] - 0s 23ms/step - loss: 1.0965 - accuracy: 0.3333\n",
      "Epoch 23/40\n",
      "1/1 [==============================] - 0s 23ms/step - loss: 1.0963 - accuracy: 0.3333\n",
      "Epoch 24/40\n",
      "1/1 [==============================] - 0s 24ms/step - loss: 1.0960 - accuracy: 0.3333\n",
      "Epoch 25/40\n",
      "1/1 [==============================] - 0s 21ms/step - loss: 1.0957 - accuracy: 0.3333\n",
      "Epoch 26/40\n",
      "1/1 [==============================] - 0s 25ms/step - loss: 1.0953 - accuracy: 0.3333\n",
      "Epoch 27/40\n",
      "1/1 [==============================] - 0s 26ms/step - loss: 1.0949 - accuracy: 0.3333\n",
      "Epoch 28/40\n",
      "1/1 [==============================] - 0s 22ms/step - loss: 1.0945 - accuracy: 0.3333\n",
      "Epoch 29/40\n",
      "1/1 [==============================] - 0s 22ms/step - loss: 1.0940 - accuracy: 0.3333\n",
      "Epoch 30/40\n",
      "1/1 [==============================] - 0s 23ms/step - loss: 1.0934 - accuracy: 0.3333\n",
      "Epoch 31/40\n",
      "1/1 [==============================] - 0s 27ms/step - loss: 1.0927 - accuracy: 0.3333\n",
      "Epoch 32/40\n",
      "1/1 [==============================] - 0s 27ms/step - loss: 1.0920 - accuracy: 0.3333\n",
      "Epoch 33/40\n",
      "1/1 [==============================] - 0s 28ms/step - loss: 1.0912 - accuracy: 0.3333\n",
      "Epoch 34/40\n",
      "1/1 [==============================] - 0s 27ms/step - loss: 1.0902 - accuracy: 0.3333\n",
      "Epoch 35/40\n",
      "1/1 [==============================] - 0s 23ms/step - loss: 1.0891 - accuracy: 0.3333\n",
      "Epoch 36/40\n",
      "1/1 [==============================] - 0s 27ms/step - loss: 1.0878 - accuracy: 0.3333\n",
      "Epoch 37/40\n",
      "1/1 [==============================] - 0s 28ms/step - loss: 1.0863 - accuracy: 0.3333\n",
      "Epoch 38/40\n",
      "1/1 [==============================] - 0s 24ms/step - loss: 1.0845 - accuracy: 0.3333\n",
      "Epoch 39/40\n",
      "1/1 [==============================] - 0s 23ms/step - loss: 1.0824 - accuracy: 0.3333\n",
      "Epoch 40/40\n",
      "1/1 [==============================] - 0s 25ms/step - loss: 1.0799 - accuracy: 0.3333\n"
     ]
    },
    {
     "data": {
      "text/plain": [
       "<keras.callbacks.History at 0x7fb573f203a0>"
      ]
     },
     "execution_count": 8,
     "metadata": {},
     "output_type": "execute_result"
    }
   ],
   "source": [
    "# Create the model\n",
    "model = tf.keras.Sequential()\n",
    "\n",
    "# Add an Embedding layer to transform the input data into dense vectors\n",
    "model.add(tf.keras.layers.Embedding(input_dim=26, output_dim=8))\n",
    "\n",
    "# Add a LSTM layer to process the dense vectors\n",
    "model.add(tf.keras.layers.LSTM(units=16))\n",
    "\n",
    "# Add a Dense layer with softmax activation to output the probabilities for each category\n",
    "model.add(tf.keras.layers.Dense(units=num_categories, activation='softmax'))\n",
    "\n",
    "# Compile the model\n",
    "model.compile(optimizer='adam', loss='sparse_categorical_crossentropy', metrics=['accuracy'])\n",
    "\n",
    "# Fit the model on the training data\n",
    "model.fit(X, y, epochs=40)"
   ]
  },
  {
   "cell_type": "code",
   "execution_count": 9,
   "id": "7db46476-e4de-43c9-a6b2-471d82067901",
   "metadata": {},
   "outputs": [
    {
     "name": "stdout",
     "output_type": "stream",
     "text": [
      "1/1 [==============================] - 0s 342ms/step\n",
      "greetings\n"
     ]
    }
   ],
   "source": [
    "# Define a new chat message\n",
    "new_message = 'I love cats.'\n",
    "\n",
    "# One-hot encode the new message\n",
    "new_X = one_hot_encode([new_message], 26)\n",
    "\n",
    "# Use the model to predict the category for the new message\n",
    "prediction = model.predict(new_X)\n",
    "\n",
    "# Get the index of the highest probability\n",
    "prediction_index = np.argmax(prediction)\n",
    "\n",
    "# Print the prediction\n",
    "print(categories[prediction_index])"
   ]
  },
  {
   "cell_type": "code",
   "execution_count": null,
   "id": "b68f8284-6c90-4120-8c2c-a66c475ff004",
   "metadata": {},
   "outputs": [],
   "source": []
  },
  {
   "cell_type": "code",
   "execution_count": null,
   "id": "ed81cd7c-6e66-4c33-b79c-9037a167c278",
   "metadata": {},
   "outputs": [],
   "source": []
  }
 ],
 "metadata": {
  "kernelspec": {
   "display_name": "Python 3 (ipykernel)",
   "language": "python",
   "name": "python3"
  },
  "language_info": {
   "codemirror_mode": {
    "name": "ipython",
    "version": 3
   },
   "file_extension": ".py",
   "mimetype": "text/x-python",
   "name": "python",
   "nbconvert_exporter": "python",
   "pygments_lexer": "ipython3",
   "version": "3.9.6"
  }
 },
 "nbformat": 4,
 "nbformat_minor": 5
}
