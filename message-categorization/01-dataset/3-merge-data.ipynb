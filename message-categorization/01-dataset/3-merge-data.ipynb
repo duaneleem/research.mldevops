{
 "cells": [
  {
   "cell_type": "markdown",
   "id": "f962bf4e-fd10-454b-a75a-0a5743bfddf1",
   "metadata": {},
   "source": [
    "# Overview\n",
    "\n",
    "We'll merge all extra data sets into one CSV."
   ]
  },
  {
   "cell_type": "markdown",
   "id": "4d6cb007-1cc5-4717-8ebb-93be64e206ca",
   "metadata": {},
   "source": [
    "# Instantiate required Python components.\n",
    "\n",
    "Our project will use TensorFlow for developing our model.  We'll also need several other Python libraries to work with our CSV."
   ]
  },
  {
   "cell_type": "code",
   "execution_count": 1,
   "id": "5a4d5bb6-4456-45d7-aede-46cb1764268a",
   "metadata": {},
   "outputs": [],
   "source": [
    "import re\n",
    "import pandas as pd\n",
    "import csv\n",
    "import numpy as np\n",
    "import json\n",
    "\n",
    "# Used for Troubleshooting\n",
    "from IPython.display import display\n",
    "\n",
    "# Read config.json\n",
    "with open('../config.json', 'r') as config_file:\n",
    "    config = json.load(config_file)"
   ]
  },
  {
   "cell_type": "markdown",
   "id": "e20a4639-992d-494c-ae06-5855b6d61ea1",
   "metadata": {},
   "source": [
    "# Set Hyperparameters\n",
    "\n",
    "Merge multiple files into one CSV.  Ensure that the columns are in the following order: reason, singleMessage"
   ]
  },
  {
   "cell_type": "code",
   "execution_count": 2,
   "id": "76770e5f-3c99-43d4-a0db-cf64f241574b",
   "metadata": {},
   "outputs": [],
   "source": [
    "# All the files to merge. Disable the ones you don't need. Make sure to update the model version in the config file.\n",
    "FILE_MESSAGES = [\n",
    "    f\"{config['save_directory']}/data/output/1-preprocessed-data.csv\",\n",
    "    f\"{config['save_directory']}/data/output/1-preprocess-clean.csv\",\n",
    "    f\"{config['save_directory']}/data/output/2-dataset-politics.csv\"\n",
    "]"
   ]
  },
  {
   "cell_type": "markdown",
   "id": "a3423a1a-48ee-464a-9f3a-7481c5679eec",
   "metadata": {},
   "source": [
    "# Read the CSV Data"
   ]
  },
  {
   "cell_type": "code",
   "execution_count": 3,
   "id": "31eae25f-1b01-491c-adcf-895f4d9dcf85",
   "metadata": {},
   "outputs": [
    {
     "name": "stdout",
     "output_type": "stream",
     "text": [
      "../artifacts/data/output/1-preprocessed-data.csv contains the correct columns.\n",
      "../artifacts/data/output/1-preprocess-clean.csv contains the correct columns.\n",
      "../artifacts/data/output/2-dataset-politics.csv contains the correct columns.\n",
      "\n",
      "Combined DataFrame:\n",
      "                                                   reason  \\\n",
      "0       Account number visible. Please remove from con...   \n",
      "1                                  Inappropriate comment.   \n",
      "2                                  Caps for tickers only.   \n",
      "3                                  Caps for tickers only.   \n",
      "4                                  Inappropriate comment.   \n",
      "...                                                   ...   \n",
      "131608  Politics not allowed outside of references to ...   \n",
      "131609  Politics not allowed outside of references to ...   \n",
      "131610  Politics not allowed outside of references to ...   \n",
      "131611  Politics not allowed outside of references to ...   \n",
      "131612  Politics not allowed outside of references to ...   \n",
      "\n",
      "                                            singleMessage  \n",
      "0                                a.b.c.warriortrading.com  \n",
      "1                                           mammkd. sdkkf  \n",
      "2                                                 wattior  \n",
      "3                                                 wattior  \n",
      "4                                                 wattior  \n",
      "...                                                   ...  \n",
      "131608          lil'wayne got a pardon and not them ah ah  \n",
      "131609  So you think it will be called unconstitutiona...  \n",
      "131610  The left of America has out numbered the right...  \n",
      "131611  Everyone spread the word…I just set fire on water  \n",
      "131612  Starting to feel like congress should let DOJ ...  \n",
      "\n",
      "[131613 rows x 2 columns]\n"
     ]
    }
   ],
   "source": [
    "# Specify the correct columns\n",
    "correct_columns = ['reason', 'singleMessage']\n",
    "\n",
    "# Initialize an empty list to store valid DataFrames\n",
    "valid_dataframes = []\n",
    "\n",
    "# Read each CSV file and check if it contains the correct columns\n",
    "for file in FILE_MESSAGES:\n",
    "    df = pd.read_csv(file)\n",
    "    \n",
    "    if set(df.columns) == set(correct_columns):\n",
    "        valid_dataframes.append(df)\n",
    "        print(f\"{file} contains the correct columns.\")\n",
    "    else:\n",
    "        print(f\"{file} does not contain the correct columns.\")\n",
    "\n",
    "# Concatenate all valid DataFrames into a single DataFrame\n",
    "if valid_dataframes:\n",
    "    combined_df = pd.concat(valid_dataframes, ignore_index=True)\n",
    "    print(\"\\nCombined DataFrame:\")\n",
    "    print(combined_df)\n",
    "else:\n",
    "    print(\"\\nNo valid DataFrames found.\")"
   ]
  },
  {
   "cell_type": "code",
   "execution_count": 4,
   "id": "2bbd562f-51d0-4b67-a28e-ac0923c84d0c",
   "metadata": {},
   "outputs": [
    {
     "data": {
      "text/html": [
       "<div>\n",
       "<style scoped>\n",
       "    .dataframe tbody tr th:only-of-type {\n",
       "        vertical-align: middle;\n",
       "    }\n",
       "\n",
       "    .dataframe tbody tr th {\n",
       "        vertical-align: top;\n",
       "    }\n",
       "\n",
       "    .dataframe thead th {\n",
       "        text-align: right;\n",
       "    }\n",
       "</style>\n",
       "<table border=\"1\" class=\"dataframe\">\n",
       "  <thead>\n",
       "    <tr style=\"text-align: right;\">\n",
       "      <th></th>\n",
       "      <th>reason</th>\n",
       "      <th>singleMessage</th>\n",
       "    </tr>\n",
       "  </thead>\n",
       "  <tbody>\n",
       "    <tr>\n",
       "      <th>0</th>\n",
       "      <td>Account number visible. Please remove from con...</td>\n",
       "      <td>a.b.c.warriortrading.com</td>\n",
       "    </tr>\n",
       "    <tr>\n",
       "      <th>1</th>\n",
       "      <td>Inappropriate comment.</td>\n",
       "      <td>mammkd. sdkkf</td>\n",
       "    </tr>\n",
       "    <tr>\n",
       "      <th>2</th>\n",
       "      <td>Caps for tickers only.</td>\n",
       "      <td>wattior</td>\n",
       "    </tr>\n",
       "    <tr>\n",
       "      <th>3</th>\n",
       "      <td>Caps for tickers only.</td>\n",
       "      <td>wattior</td>\n",
       "    </tr>\n",
       "    <tr>\n",
       "      <th>4</th>\n",
       "      <td>Inappropriate comment.</td>\n",
       "      <td>wattior</td>\n",
       "    </tr>\n",
       "    <tr>\n",
       "      <th>...</th>\n",
       "      <td>...</td>\n",
       "      <td>...</td>\n",
       "    </tr>\n",
       "    <tr>\n",
       "      <th>131608</th>\n",
       "      <td>Politics not allowed outside of references to ...</td>\n",
       "      <td>lil'wayne got a pardon and not them ah ah</td>\n",
       "    </tr>\n",
       "    <tr>\n",
       "      <th>131609</th>\n",
       "      <td>Politics not allowed outside of references to ...</td>\n",
       "      <td>So you think it will be called unconstitutiona...</td>\n",
       "    </tr>\n",
       "    <tr>\n",
       "      <th>131610</th>\n",
       "      <td>Politics not allowed outside of references to ...</td>\n",
       "      <td>The left of America has out numbered the right...</td>\n",
       "    </tr>\n",
       "    <tr>\n",
       "      <th>131611</th>\n",
       "      <td>Politics not allowed outside of references to ...</td>\n",
       "      <td>Everyone spread the word…I just set fire on water</td>\n",
       "    </tr>\n",
       "    <tr>\n",
       "      <th>131612</th>\n",
       "      <td>Politics not allowed outside of references to ...</td>\n",
       "      <td>Starting to feel like congress should let DOJ ...</td>\n",
       "    </tr>\n",
       "  </tbody>\n",
       "</table>\n",
       "<p>131613 rows × 2 columns</p>\n",
       "</div>"
      ],
      "text/plain": [
       "                                                   reason  \\\n",
       "0       Account number visible. Please remove from con...   \n",
       "1                                  Inappropriate comment.   \n",
       "2                                  Caps for tickers only.   \n",
       "3                                  Caps for tickers only.   \n",
       "4                                  Inappropriate comment.   \n",
       "...                                                   ...   \n",
       "131608  Politics not allowed outside of references to ...   \n",
       "131609  Politics not allowed outside of references to ...   \n",
       "131610  Politics not allowed outside of references to ...   \n",
       "131611  Politics not allowed outside of references to ...   \n",
       "131612  Politics not allowed outside of references to ...   \n",
       "\n",
       "                                            singleMessage  \n",
       "0                                a.b.c.warriortrading.com  \n",
       "1                                           mammkd. sdkkf  \n",
       "2                                                 wattior  \n",
       "3                                                 wattior  \n",
       "4                                                 wattior  \n",
       "...                                                   ...  \n",
       "131608          lil'wayne got a pardon and not them ah ah  \n",
       "131609  So you think it will be called unconstitutiona...  \n",
       "131610  The left of America has out numbered the right...  \n",
       "131611  Everyone spread the word…I just set fire on water  \n",
       "131612  Starting to feel like congress should let DOJ ...  \n",
       "\n",
       "[131613 rows x 2 columns]"
      ]
     },
     "metadata": {},
     "output_type": "display_data"
    }
   ],
   "source": [
    "display(combined_df)"
   ]
  },
  {
   "cell_type": "markdown",
   "id": "b26d7db1-2102-4b24-bf79-212814a9e948",
   "metadata": {},
   "source": [
    "# Shuffe Dataframe"
   ]
  },
  {
   "cell_type": "code",
   "execution_count": 5,
   "id": "ee758b64-41de-41ab-9fd6-91a63a02e0d3",
   "metadata": {},
   "outputs": [],
   "source": [
    "shuffled_df = combined_df.sample(frac=1, random_state=42).reset_index(drop=True)"
   ]
  },
  {
   "cell_type": "markdown",
   "id": "c3da08fa-66a4-4186-944f-deed8207fb5c",
   "metadata": {},
   "source": [
    "# 🚧 Save Data to Disk\n",
    "\n",
    "Let's save all our hard work formatting the dataframe to a CSV for future reference.\n",
    "\n",
    "- [Pandas DataFrame.to_csv](https://pandas.pydata.org/docs/reference/api/pandas.DataFrame.to_csv.html)"
   ]
  },
  {
   "cell_type": "code",
   "execution_count": 6,
   "id": "bcd5cfdd-acc1-47a7-89db-e636639a84a2",
   "metadata": {},
   "outputs": [],
   "source": [
    "shuffled_df.to_csv(f\"{config['save_directory']}/data/output/{config['model_version']}-3-merge-data.csv\", index=False)"
   ]
  },
  {
   "cell_type": "code",
   "execution_count": null,
   "id": "a35b0302-5498-4285-bfcc-c585eb53249f",
   "metadata": {},
   "outputs": [],
   "source": []
  }
 ],
 "metadata": {
  "kernelspec": {
   "display_name": "Python 3 (ipykernel)",
   "language": "python",
   "name": "python3"
  },
  "language_info": {
   "codemirror_mode": {
    "name": "ipython",
    "version": 3
   },
   "file_extension": ".py",
   "mimetype": "text/x-python",
   "name": "python",
   "nbconvert_exporter": "python",
   "pygments_lexer": "ipython3",
   "version": "3.10.11"
  }
 },
 "nbformat": 4,
 "nbformat_minor": 5
}
