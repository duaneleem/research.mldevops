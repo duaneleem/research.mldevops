{
 "cells": [
  {
   "cell_type": "markdown",
   "id": "b418beaf-8c6c-4c20-9a0b-cdb6cd14e561",
   "metadata": {},
   "source": [
    "# Overview\n",
    "\n",
    "We'll be shaping the clean data."
   ]
  },
  {
   "cell_type": "markdown",
   "id": "50f0c191-fbbd-4abb-a9aa-82dcbbe958e7",
   "metadata": {},
   "source": [
    "# Instantiate required Python components.\n",
    "\n",
    "Our project will use TensorFlow for developing our model.  We'll also need several other Python libraries to work with our CSV."
   ]
  },
  {
   "cell_type": "code",
   "execution_count": 1,
   "id": "16abbfbf-2b5b-491e-9850-fc308d31237e",
   "metadata": {},
   "outputs": [],
   "source": [
    "import re\n",
    "import pandas as pd\n",
    "import csv\n",
    "import numpy as np\n",
    "\n",
    "# Used for Troubleshooting\n",
    "from IPython.display import display"
   ]
  },
  {
   "cell_type": "markdown",
   "id": "1b7712de-ab57-458a-b67c-e4b617ddcf71",
   "metadata": {},
   "source": [
    "# Set Hyperparameters\n",
    "\n",
    "Merge multiple files into one CSV.  Ensure that the columns are in the following order: reason, singleMessage"
   ]
  },
  {
   "cell_type": "code",
   "execution_count": 2,
   "id": "9d808e3d-0a8d-4fbe-956a-c6ff154f87c3",
   "metadata": {},
   "outputs": [],
   "source": [
    "# The file that contains the data.\n",
    "FILE_MESSAGES = \"../artifacts/data/sources/20230328-clean-data.csv\""
   ]
  },
  {
   "cell_type": "markdown",
   "id": "55efa6e1-f710-4a5f-b915-4d1887b7e1cb",
   "metadata": {},
   "source": [
    "# Read the CSV Data\n",
    "\n",
    "Read the CSV contents and keep only specific fields."
   ]
  },
  {
   "cell_type": "code",
   "execution_count": 3,
   "id": "cf5999ac-966f-4600-bbd8-6d85a29ba031",
   "metadata": {},
   "outputs": [
    {
     "data": {
      "text/html": [
       "<div>\n",
       "<style scoped>\n",
       "    .dataframe tbody tr th:only-of-type {\n",
       "        vertical-align: middle;\n",
       "    }\n",
       "\n",
       "    .dataframe tbody tr th {\n",
       "        vertical-align: top;\n",
       "    }\n",
       "\n",
       "    .dataframe thead th {\n",
       "        text-align: right;\n",
       "    }\n",
       "</style>\n",
       "<table border=\"1\" class=\"dataframe\">\n",
       "  <thead>\n",
       "    <tr style=\"text-align: right;\">\n",
       "      <th></th>\n",
       "      <th>id</th>\n",
       "      <th>message</th>\n",
       "    </tr>\n",
       "  </thead>\n",
       "  <tbody>\n",
       "    <tr>\n",
       "      <th>0</th>\n",
       "      <td>7537646</td>\n",
       "      <td>gm</td>\n",
       "    </tr>\n",
       "    <tr>\n",
       "      <th>1</th>\n",
       "      <td>7537647</td>\n",
       "      <td>gm</td>\n",
       "    </tr>\n",
       "    <tr>\n",
       "      <th>2</th>\n",
       "      <td>7537648</td>\n",
       "      <td>hi</td>\n",
       "    </tr>\n",
       "    <tr>\n",
       "      <th>3</th>\n",
       "      <td>7537649</td>\n",
       "      <td>GM</td>\n",
       "    </tr>\n",
       "    <tr>\n",
       "      <th>4</th>\n",
       "      <td>7537650</td>\n",
       "      <td>gm</td>\n",
       "    </tr>\n",
       "    <tr>\n",
       "      <th>...</th>\n",
       "      <td>...</td>\n",
       "      <td>...</td>\n",
       "    </tr>\n",
       "    <tr>\n",
       "      <th>110717</th>\n",
       "      <td>7648753</td>\n",
       "      <td>it has not.  i made a nice little chunk on [$P...</td>\n",
       "    </tr>\n",
       "    <tr>\n",
       "      <th>110718</th>\n",
       "      <td>7648754</td>\n",
       "      <td>@Kyle. Agreed. Algo scalping is not easy. If I...</td>\n",
       "    </tr>\n",
       "    <tr>\n",
       "      <th>110719</th>\n",
       "      <td>7648755</td>\n",
       "      <td>I have not seen it yet.  I will look for it.  ...</td>\n",
       "    </tr>\n",
       "    <tr>\n",
       "      <th>110720</th>\n",
       "      <td>7648756</td>\n",
       "      <td>@Tanner. Agreed. It's dead, lol</td>\n",
       "    </tr>\n",
       "    <tr>\n",
       "      <th>110721</th>\n",
       "      <td>7648757</td>\n",
       "      <td>@Kyle. You're welcome</td>\n",
       "    </tr>\n",
       "  </tbody>\n",
       "</table>\n",
       "<p>110722 rows × 2 columns</p>\n",
       "</div>"
      ],
      "text/plain": [
       "             id                                            message\n",
       "0       7537646                                                 gm\n",
       "1       7537647                                                 gm\n",
       "2       7537648                                                 hi\n",
       "3       7537649                                                 GM\n",
       "4       7537650                                                 gm\n",
       "...         ...                                                ...\n",
       "110717  7648753  it has not.  i made a nice little chunk on [$P...\n",
       "110718  7648754  @Kyle. Agreed. Algo scalping is not easy. If I...\n",
       "110719  7648755  I have not seen it yet.  I will look for it.  ...\n",
       "110720  7648756                    @Tanner. Agreed. It's dead, lol\n",
       "110721  7648757                              @Kyle. You're welcome\n",
       "\n",
       "[110722 rows x 2 columns]"
      ]
     },
     "metadata": {},
     "output_type": "display_data"
    }
   ],
   "source": [
    "# Open file and save to dataframe.\n",
    "df = pd.read_csv(FILE_MESSAGES)\n",
    "\n",
    "#print(df.columns)\n",
    "display(df)"
   ]
  },
  {
   "cell_type": "markdown",
   "id": "08f24f07-3886-47b7-a026-8953f83f8628",
   "metadata": {},
   "source": [
    "# Preprocess Data\n",
    "\n",
    "As part of the Machine Learning process, we will remove fields not required, fix missing values, remove noisy data, and any additional steps to prepare for the ML training process."
   ]
  },
  {
   "cell_type": "markdown",
   "id": "4bdc6b52-ebd9-4c42-ac6b-1761d8cebf35",
   "metadata": {},
   "source": [
    "## Remove Empty Messages"
   ]
  },
  {
   "cell_type": "code",
   "execution_count": 4,
   "id": "3466264f-da9e-44bb-a699-19d25531fa7d",
   "metadata": {},
   "outputs": [],
   "source": [
    "# Remove rows that have empty data (missing values) in the specified column\n",
    "df = df[df[\"message\"].notna()]"
   ]
  },
  {
   "cell_type": "markdown",
   "id": "8472a99d-eab0-4b70-82b4-d8b19474abdb",
   "metadata": {},
   "source": [
    "## Keep Labels and Messages\n",
    "\n",
    "We will keep only specific columns that is important to the model."
   ]
  },
  {
   "cell_type": "code",
   "execution_count": 5,
   "id": "695415ce-7656-4f4d-ba89-eaf9e3856fce",
   "metadata": {},
   "outputs": [
    {
     "name": "stdout",
     "output_type": "stream",
     "text": [
      "Index(['message'], dtype='object')\n",
      "Total number of rows: 110721\n"
     ]
    }
   ],
   "source": [
    "# Keep specific columns.\n",
    "df = df[[\"message\"]]\n",
    "\n",
    "print(df.columns)\n",
    "print(f'Total number of rows: {len(df)}')"
   ]
  },
  {
   "cell_type": "markdown",
   "id": "25e63934-4863-4ee7-bdd3-be747c1ed445",
   "metadata": {},
   "source": [
    "## Add Reason Column\n",
    "\n",
    "Our two features we want to keep are:\n",
    "\n",
    "- reason\n",
    "- singleMessage\n",
    "\n",
    "We need to aim to format our datashape to that."
   ]
  },
  {
   "cell_type": "code",
   "execution_count": 6,
   "id": "e2fdab8e-9aac-4776-a4cc-141c0b270d0e",
   "metadata": {},
   "outputs": [],
   "source": [
    "# Add a new column called 'reason' with a single value for all rows\n",
    "df[\"reason\"] = \"Clean\""
   ]
  },
  {
   "cell_type": "markdown",
   "id": "a542c491-9f69-46d7-b338-ca9e03649c81",
   "metadata": {},
   "source": [
    "## Rename Column Names"
   ]
  },
  {
   "cell_type": "code",
   "execution_count": 7,
   "id": "ec9f8aa1-d379-4978-93ee-1456f03a354c",
   "metadata": {},
   "outputs": [],
   "source": [
    "df = df.rename(columns={\"message\": \"singleMessage\"})"
   ]
  },
  {
   "cell_type": "markdown",
   "id": "f869dc53-c4fb-4055-bbab-5da17d76e6bf",
   "metadata": {},
   "source": [
    "## Change Order of Columns"
   ]
  },
  {
   "cell_type": "code",
   "execution_count": 8,
   "id": "7a69cca9-f70b-4076-b45f-8c534ebc3c3a",
   "metadata": {},
   "outputs": [],
   "source": [
    "df = df[[\"reason\", \"singleMessage\"]]"
   ]
  },
  {
   "cell_type": "markdown",
   "id": "ace6e18d-f05d-4bbb-8416-9a8e1a73b43e",
   "metadata": {},
   "source": [
    "# Review Data Results"
   ]
  },
  {
   "cell_type": "code",
   "execution_count": 9,
   "id": "4884f171-52ea-46bd-9a21-375612e08244",
   "metadata": {},
   "outputs": [
    {
     "data": {
      "text/html": [
       "<div>\n",
       "<style scoped>\n",
       "    .dataframe tbody tr th:only-of-type {\n",
       "        vertical-align: middle;\n",
       "    }\n",
       "\n",
       "    .dataframe tbody tr th {\n",
       "        vertical-align: top;\n",
       "    }\n",
       "\n",
       "    .dataframe thead th {\n",
       "        text-align: right;\n",
       "    }\n",
       "</style>\n",
       "<table border=\"1\" class=\"dataframe\">\n",
       "  <thead>\n",
       "    <tr style=\"text-align: right;\">\n",
       "      <th></th>\n",
       "      <th>reason</th>\n",
       "      <th>singleMessage</th>\n",
       "    </tr>\n",
       "  </thead>\n",
       "  <tbody>\n",
       "    <tr>\n",
       "      <th>0</th>\n",
       "      <td>Clean</td>\n",
       "      <td>gm</td>\n",
       "    </tr>\n",
       "    <tr>\n",
       "      <th>1</th>\n",
       "      <td>Clean</td>\n",
       "      <td>gm</td>\n",
       "    </tr>\n",
       "    <tr>\n",
       "      <th>2</th>\n",
       "      <td>Clean</td>\n",
       "      <td>hi</td>\n",
       "    </tr>\n",
       "    <tr>\n",
       "      <th>3</th>\n",
       "      <td>Clean</td>\n",
       "      <td>GM</td>\n",
       "    </tr>\n",
       "    <tr>\n",
       "      <th>4</th>\n",
       "      <td>Clean</td>\n",
       "      <td>gm</td>\n",
       "    </tr>\n",
       "    <tr>\n",
       "      <th>...</th>\n",
       "      <td>...</td>\n",
       "      <td>...</td>\n",
       "    </tr>\n",
       "    <tr>\n",
       "      <th>110717</th>\n",
       "      <td>Clean</td>\n",
       "      <td>it has not.  i made a nice little chunk on [$P...</td>\n",
       "    </tr>\n",
       "    <tr>\n",
       "      <th>110718</th>\n",
       "      <td>Clean</td>\n",
       "      <td>@Kyle. Agreed. Algo scalping is not easy. If I...</td>\n",
       "    </tr>\n",
       "    <tr>\n",
       "      <th>110719</th>\n",
       "      <td>Clean</td>\n",
       "      <td>I have not seen it yet.  I will look for it.  ...</td>\n",
       "    </tr>\n",
       "    <tr>\n",
       "      <th>110720</th>\n",
       "      <td>Clean</td>\n",
       "      <td>@Tanner. Agreed. It's dead, lol</td>\n",
       "    </tr>\n",
       "    <tr>\n",
       "      <th>110721</th>\n",
       "      <td>Clean</td>\n",
       "      <td>@Kyle. You're welcome</td>\n",
       "    </tr>\n",
       "  </tbody>\n",
       "</table>\n",
       "<p>110721 rows × 2 columns</p>\n",
       "</div>"
      ],
      "text/plain": [
       "       reason                                      singleMessage\n",
       "0       Clean                                                 gm\n",
       "1       Clean                                                 gm\n",
       "2       Clean                                                 hi\n",
       "3       Clean                                                 GM\n",
       "4       Clean                                                 gm\n",
       "...       ...                                                ...\n",
       "110717  Clean  it has not.  i made a nice little chunk on [$P...\n",
       "110718  Clean  @Kyle. Agreed. Algo scalping is not easy. If I...\n",
       "110719  Clean  I have not seen it yet.  I will look for it.  ...\n",
       "110720  Clean                    @Tanner. Agreed. It's dead, lol\n",
       "110721  Clean                              @Kyle. You're welcome\n",
       "\n",
       "[110721 rows x 2 columns]"
      ]
     },
     "metadata": {},
     "output_type": "display_data"
    }
   ],
   "source": [
    "display(df)"
   ]
  },
  {
   "cell_type": "markdown",
   "id": "0cd02460-87af-4154-a261-505dec1dc40a",
   "metadata": {},
   "source": [
    "# 🚧 Save Data to Disk\n",
    "\n",
    "Let's save all our hard work formatting the dataframe to a CSV for future reference.\n",
    "\n",
    "- [Pandas DataFrame.to_csv](https://pandas.pydata.org/docs/reference/api/pandas.DataFrame.to_csv.html)"
   ]
  },
  {
   "cell_type": "code",
   "execution_count": 10,
   "id": "a6fd754d-7b93-481c-9cc5-69e8849f24fe",
   "metadata": {},
   "outputs": [],
   "source": [
    "df.to_csv('data/output/1-preprocess-clean.csv', index=False)"
   ]
  }
 ],
 "metadata": {
  "kernelspec": {
   "display_name": "Python 3 (ipykernel)",
   "language": "python",
   "name": "python3"
  },
  "language_info": {
   "codemirror_mode": {
    "name": "ipython",
    "version": 3
   },
   "file_extension": ".py",
   "mimetype": "text/x-python",
   "name": "python",
   "nbconvert_exporter": "python",
   "pygments_lexer": "ipython3",
   "version": "3.10.11"
  }
 },
 "nbformat": 4,
 "nbformat_minor": 5
}
