{
 "cells": [
  {
   "cell_type": "markdown",
   "id": "0db9b77c-964f-407e-b8f9-eecc643c0e26",
   "metadata": {},
   "source": [
    "# Overview\n",
    "\n",
    "We will be doing the following to create a Deep Neural Network using RNN and Softmax as the activation output layer:\n",
    "\n",
    "- Read the CSV data\n",
    "- Remove unused fields.\n",
    "- Keep only the message in the JSON.\n",
    "- Set Hyperparameters\n",
    "- Define two lists: messages and labels.\n",
    "- Split data between training and validation sets.\n",
    "- Tokenize words\n",
    "- Pad sequences so they are the same size.\n",
    "- Build LSTM\n",
    "- Train several epochs.\n",
    "- Plot Loss and Accuracy to view model's performance.\n",
    "- Make predictions.\n"
   ]
  },
  {
   "cell_type": "code",
   "execution_count": null,
   "id": "ea06c841-29dc-490c-b2e4-7ca137f990e2",
   "metadata": {},
   "outputs": [],
   "source": []
  }
 ],
 "metadata": {
  "kernelspec": {
   "display_name": "Python 3 (ipykernel)",
   "language": "python",
   "name": "python3"
  },
  "language_info": {
   "codemirror_mode": {
    "name": "ipython",
    "version": 3
   },
   "file_extension": ".py",
   "mimetype": "text/x-python",
   "name": "python",
   "nbconvert_exporter": "python",
   "pygments_lexer": "ipython3",
   "version": "3.9.6"
  }
 },
 "nbformat": 4,
 "nbformat_minor": 5
}
