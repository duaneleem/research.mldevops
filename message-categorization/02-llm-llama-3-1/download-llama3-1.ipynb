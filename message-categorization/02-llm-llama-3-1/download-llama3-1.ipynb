{
 "cells": [
  {
   "cell_type": "markdown",
   "id": "a19360fe-d117-4fe4-a6fe-600324c659c3",
   "metadata": {},
   "source": [
    "# Download Llama 3.1"
   ]
  },
  {
   "cell_type": "code",
   "execution_count": null,
   "id": "890eaba5-7dfa-4aa1-aa7a-edea2288a1e0",
   "metadata": {},
   "outputs": [],
   "source": []
  },
  {
   "cell_type": "code",
   "execution_count": null,
   "id": "390e7ea0-f64f-4254-8081-d39afe39a7bb",
   "metadata": {},
   "outputs": [],
   "source": [
    "pip install llama-toolchain"
   ]
  },
  {
   "cell_type": "code",
   "execution_count": null,
   "id": "4136b324-3707-43fc-8c30-cb7283cb28e1",
   "metadata": {},
   "outputs": [],
   "source": []
  },
  {
   "cell_type": "code",
   "execution_count": null,
   "id": "69526364-6935-42ca-960e-63d274f00ca3",
   "metadata": {},
   "outputs": [],
   "source": []
  },
  {
   "cell_type": "code",
   "execution_count": null,
   "id": "a493b0be-91b5-4a99-a461-86ffe96c64bd",
   "metadata": {},
   "outputs": [],
   "source": []
  }
 ],
 "metadata": {
  "kernelspec": {
   "display_name": "Python 3 (ipykernel)",
   "language": "python",
   "name": "python3"
  },
  "language_info": {
   "codemirror_mode": {
    "name": "ipython",
    "version": 3
   },
   "file_extension": ".py",
   "mimetype": "text/x-python",
   "name": "python",
   "nbconvert_exporter": "python",
   "pygments_lexer": "ipython3",
   "version": "3.10.11"
  }
 },
 "nbformat": 4,
 "nbformat_minor": 5
}
