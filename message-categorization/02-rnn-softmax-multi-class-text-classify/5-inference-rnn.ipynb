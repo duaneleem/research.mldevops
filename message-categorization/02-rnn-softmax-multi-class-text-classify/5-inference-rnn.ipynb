{
 "cells": [
  {
   "cell_type": "markdown",
   "id": "7f44af09-ffea-421b-9fb6-d44586490b62",
   "metadata": {},
   "source": [
    "# Overview\n",
    "\n",
    "We will load the model and infer data from it."
   ]
  },
  {
   "cell_type": "code",
   "execution_count": 1,
   "id": "d9e2b0b2-087d-440f-b018-f932d471c93b",
   "metadata": {},
   "outputs": [],
   "source": [
    "import json\n",
    "\n",
    "# Read config.json\n",
    "with open('../config.json', 'r') as config_file:\n",
    "    config = json.load(config_file)"
   ]
  },
  {
   "cell_type": "markdown",
   "id": "0392d3d5-d81e-4e20-a0ec-af2439f819b9",
   "metadata": {},
   "source": [
    "# Hyperparameters"
   ]
  },
  {
   "cell_type": "code",
   "execution_count": 2,
   "id": "a9e30538-88b3-47c9-96d1-86449a0fccf2",
   "metadata": {},
   "outputs": [],
   "source": [
    "# Tokenize and pad the text data\n",
    "max_len = 100  # Maximum length of input sequences"
   ]
  },
  {
   "cell_type": "markdown",
   "id": "886a2e28-f53a-4def-9c97-d391bfce3ac0",
   "metadata": {},
   "source": [
    "# Load Dependencies"
   ]
  },
  {
   "cell_type": "code",
   "execution_count": 3,
   "id": "94c2d329-166b-466f-a4ae-ed9791767c49",
   "metadata": {},
   "outputs": [
    {
     "name": "stderr",
     "output_type": "stream",
     "text": [
      "2024-08-09 19:53:50.371469: E external/local_xla/xla/stream_executor/cuda/cuda_fft.cc:485] Unable to register cuFFT factory: Attempting to register factory for plugin cuFFT when one has already been registered\n",
      "2024-08-09 19:53:50.387904: E external/local_xla/xla/stream_executor/cuda/cuda_dnn.cc:8454] Unable to register cuDNN factory: Attempting to register factory for plugin cuDNN when one has already been registered\n",
      "2024-08-09 19:53:50.393030: E external/local_xla/xla/stream_executor/cuda/cuda_blas.cc:1452] Unable to register cuBLAS factory: Attempting to register factory for plugin cuBLAS when one has already been registered\n",
      "2024-08-09 19:53:50.406749: I tensorflow/core/platform/cpu_feature_guard.cc:210] This TensorFlow binary is optimized to use available CPU instructions in performance-critical operations.\n",
      "To enable the following instructions: AVX2 FMA, in other operations, rebuild TensorFlow with the appropriate compiler flags.\n",
      "2024-08-09 19:53:51.523990: W tensorflow/compiler/tf2tensorrt/utils/py_utils.cc:38] TF-TRT Warning: Could not find TensorRT\n"
     ]
    }
   ],
   "source": [
    "import tensorflow as tf\n",
    "import pickle\n",
    "from tensorflow.keras.preprocessing.sequence import pad_sequences"
   ]
  },
  {
   "cell_type": "markdown",
   "id": "ad838209-afb6-4612-b655-1ceecdf2953d",
   "metadata": {},
   "source": [
    "# Load Model and Objects\n",
    "\n"
   ]
  },
  {
   "cell_type": "code",
   "execution_count": 4,
   "id": "7eb794f7-ecde-4790-b0a5-79bddd69be35",
   "metadata": {},
   "outputs": [],
   "source": [
    "# Load the trained model\n",
    "model = tf.keras.models.load_model(f\"{config['save_directory']}/models/{config['model_version']}-labeler_model.keras\")\n",
    "\n",
    "# Load other objects\n",
    "with open(f\"{config['save_directory']}/objects/{config['model_version']}-labeler_objects.pkl\", 'rb') as f:\n",
    "    tokenizer, label_encoder = pickle.load(f)"
   ]
  },
  {
   "cell_type": "markdown",
   "id": "2401aa9e-89a5-4fb0-8896-de5f7b826577",
   "metadata": {},
   "source": [
    "# Prediction"
   ]
  },
  {
   "cell_type": "code",
   "execution_count": 16,
   "id": "a142d543-80a8-41c4-8f4e-cd416a2c3381",
   "metadata": {},
   "outputs": [
    {
     "name": "stdout",
     "output_type": "stream",
     "text": [
      "\u001b[1m1/1\u001b[0m \u001b[32m━━━━━━━━━━━━━━━━━━━━\u001b[0m\u001b[37m\u001b[0m \u001b[1m0s\u001b[0m 75ms/step\n",
      "Politics not allowed outside of references to the market.: 0.9592\n",
      "Clean: 0.0350\n"
     ]
    }
   ],
   "source": [
    "# Example message to predict\n",
    "new_message = [\"hard to track down the exact specs but I think its NVIDIA 940MX, I don't really recognize it though sorry\"]\n",
    "\n",
    "# Preprocess the new message\n",
    "new_message_seq = tokenizer.texts_to_sequences(new_message)\n",
    "new_message_padded = pad_sequences(new_message_seq, maxlen=max_len)\n",
    "\n",
    "# Predict the class probabilities\n",
    "class_probabilities = model.predict(new_message_padded)\n",
    "\n",
    "# Sort the class probabilities in descending order along with their corresponding classes\n",
    "sorted_probabilities = sorted(zip(label_encoder.classes_, class_probabilities[0]), key=lambda x: x[1], reverse=True)\n",
    "\n",
    "# Set a threshold to filter out near-zero probabilities\n",
    "threshold = 0.01\n",
    "\n",
    "# Print the sorted class probabilities above the threshold\n",
    "for reason, probability in sorted_probabilities:\n",
    "    if probability > threshold:\n",
    "        print(f\"{reason}: {probability:.4f}\")\n"
   ]
  },
  {
   "cell_type": "code",
   "execution_count": null,
   "id": "05bef1e5-59a8-485a-b858-9a227add4dd7",
   "metadata": {},
   "outputs": [],
   "source": []
  },
  {
   "cell_type": "code",
   "execution_count": null,
   "id": "bb4e42b6-889a-45a2-9e8e-67b05874c828",
   "metadata": {},
   "outputs": [],
   "source": []
  }
 ],
 "metadata": {
  "kernelspec": {
   "display_name": "Python 3 (ipykernel)",
   "language": "python",
   "name": "python3"
  },
  "language_info": {
   "codemirror_mode": {
    "name": "ipython",
    "version": 3
   },
   "file_extension": ".py",
   "mimetype": "text/x-python",
   "name": "python",
   "nbconvert_exporter": "python",
   "pygments_lexer": "ipython3",
   "version": "3.10.11"
  }
 },
 "nbformat": 4,
 "nbformat_minor": 5
}
