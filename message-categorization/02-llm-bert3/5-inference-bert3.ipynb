{
 "cells": [
  {
   "cell_type": "markdown",
   "id": "7f44af09-ffea-421b-9fb6-d44586490b62",
   "metadata": {},
   "source": [
    "# Overview\n",
    "\n",
    "We will load the model and infer data from it."
   ]
  },
  {
   "cell_type": "markdown",
   "id": "0392d3d5-d81e-4e20-a0ec-af2439f819b9",
   "metadata": {},
   "source": [
    "# Hyperparameters"
   ]
  },
  {
   "cell_type": "code",
   "execution_count": 16,
   "id": "a9e30538-88b3-47c9-96d1-86449a0fccf2",
   "metadata": {},
   "outputs": [],
   "source": [
    "# Model Artifacts Folder\n",
    "save_directory = './models/bert3'\n",
    "\n",
    "# Tokenize and pad the text data\n",
    "max_len = 100  # Maximum length of input sequences\n",
    "\n",
    "# Set a threshold to filter out near-zero probabilities\n",
    "threshold = 0.01"
   ]
  },
  {
   "cell_type": "markdown",
   "id": "886a2e28-f53a-4def-9c97-d391bfce3ac0",
   "metadata": {},
   "source": [
    "# Load Dependencies"
   ]
  },
  {
   "cell_type": "code",
   "execution_count": 2,
   "id": "94c2d329-166b-466f-a4ae-ed9791767c49",
   "metadata": {},
   "outputs": [],
   "source": [
    "from transformers import BertForSequenceClassification, BertTokenizer\n",
    "import torch\n",
    "import pickle\n",
    "import numpy as np\n",
    "import json"
   ]
  },
  {
   "cell_type": "markdown",
   "id": "ad838209-afb6-4612-b655-1ceecdf2953d",
   "metadata": {},
   "source": [
    "# Load Model and Objects\n",
    "\n"
   ]
  },
  {
   "cell_type": "code",
   "execution_count": 3,
   "id": "7eb794f7-ecde-4790-b0a5-79bddd69be35",
   "metadata": {},
   "outputs": [],
   "source": [
    "# Load the model and tokenizer\n",
    "model = BertForSequenceClassification.from_pretrained(save_directory)\n",
    "tokenizer = BertTokenizer.from_pretrained(save_directory)\n",
    "\n",
    "# Load the label encoder\n",
    "label_encoder_path = f'{save_directory}/label_encoder.pkl'\n",
    "with open(label_encoder_path, 'rb') as f:\n",
    "    label_encoder = pickle.load(f)\n",
    "\n",
    "# Ensure the model is in evaluation mode\n",
    "model.eval()\n",
    "\n",
    "# Function to make predictions with probabilities and a threshold\n",
    "def predict(text, threshold=0.001):\n",
    "    inputs = tokenizer(text, return_tensors='pt', truncation=True, padding=True, max_length=128)\n",
    "    with torch.no_grad():\n",
    "        outputs = model(**inputs)\n",
    "        logits = outputs.logits\n",
    "        probabilities = torch.nn.functional.softmax(logits, dim=-1).squeeze().numpy()\n",
    "\n",
    "    # Map the probabilities to class labels and apply threshold\n",
    "    class_probabilities = {label: float(prob) for label, prob in zip(label_encoder.classes_, probabilities) if prob > threshold}\n",
    "\n",
    "    # Sort the probabilities in descending order\n",
    "    sorted_class_probabilities = dict(sorted(class_probabilities.items(), key=lambda item: item[1], reverse=True))\n",
    "\n",
    "    # Format the output\n",
    "    formatted_output = \"\\n\".join([f\"{label}: {prob:.4f}\" for label, prob in sorted_class_probabilities.items()])\n",
    "\n",
    "    return formatted_output\n"
   ]
  },
  {
   "cell_type": "markdown",
   "id": "2401aa9e-89a5-4fb0-8896-de5f7b826577",
   "metadata": {},
   "source": [
    "# Prediction"
   ]
  },
  {
   "cell_type": "code",
   "execution_count": 20,
   "id": "a142d543-80a8-41c4-8f4e-cd416a2c3381",
   "metadata": {},
   "outputs": [
    {
     "name": "stdout",
     "output_type": "stream",
     "text": [
      "Clean: 0.9999\n"
     ]
    }
   ],
   "source": [
    "# Example usage\n",
    "text = \"When I see green, I sell. Simple. My issue is when I see red, I hold and panic and cry and scream and run and drink whisky.\"\n",
    "print(predict(text, threshold))"
   ]
  },
  {
   "cell_type": "code",
   "execution_count": null,
   "id": "05bef1e5-59a8-485a-b858-9a227add4dd7",
   "metadata": {},
   "outputs": [],
   "source": []
  }
 ],
 "metadata": {
  "kernelspec": {
   "display_name": "Python 3 (ipykernel)",
   "language": "python",
   "name": "python3"
  },
  "language_info": {
   "codemirror_mode": {
    "name": "ipython",
    "version": 3
   },
   "file_extension": ".py",
   "mimetype": "text/x-python",
   "name": "python",
   "nbconvert_exporter": "python",
   "pygments_lexer": "ipython3",
   "version": "3.10.11"
  }
 },
 "nbformat": 4,
 "nbformat_minor": 5
}
