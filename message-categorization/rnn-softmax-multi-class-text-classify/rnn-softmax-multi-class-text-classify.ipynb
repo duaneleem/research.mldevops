{
 "cells": [
  {
   "cell_type": "markdown",
   "id": "0db9b77c-964f-407e-b8f9-eecc643c0e26",
   "metadata": {},
   "source": [
    "# Overview\n",
    "\n",
    "We will be doing the following to create a Deep Neural Network using RNN and Softmax as the activation output layer:\n",
    "\n",
    "- Instantiate required Python components.\n",
    "- Set Hyperparameters\n",
    "- Read the CSV data\n",
    "- Remove unused fields.\n",
    "- Keep only the message in the JSON.\n",
    "- Define two lists: messages and labels.\n",
    "- Split data between training and validation sets.\n",
    "- Tokenize words\n",
    "- Pad sequences so they are the same size.\n",
    "- Build LSTM\n",
    "- Train several epochs.\n",
    "- Plot Loss and Accuracy to view model's performance.\n",
    "- Make predictions.\n"
   ]
  },
  {
   "cell_type": "markdown",
   "id": "07974922-a04d-4d27-a4e1-2e059136e330",
   "metadata": {
    "tags": []
   },
   "source": [
    "# Instantiate required Python components.\n",
    "\n",
    "Our project will use TensorFlow for developing our model.  We'll also need several other Python libraries to work with our CSV."
   ]
  },
  {
   "cell_type": "code",
   "execution_count": null,
   "id": "89e8ed13-8ce2-42f3-a1e2-31e9c62f6bfe",
   "metadata": {},
   "outputs": [],
   "source": [
    "import csv\n",
    "import numpy as np\n",
    "import tensorflow as tf\n",
    "from tensorflow.keras.preprocessing.text import Tokenizer\n",
    "from tensorflow.keras.preprocessing.sequence import pad_sequences\n",
    "from nltk.corpus import stopwords\n",
    "STOPWORDS = set(stopwords.words('english'))"
   ]
  },
  {
   "cell_type": "markdown",
   "id": "3f0610d5-1a17-47e6-ac18-706fd3aa2afa",
   "metadata": {},
   "source": [
    "# Set Hyperparameters\n",
    "\n",
    "This handy section will control all the important parameters for our model."
   ]
  },
  {
   "cell_type": "code",
   "execution_count": 1,
   "id": "5b0bb137-dda7-49bf-ac86-7926304b5a93",
   "metadata": {},
   "outputs": [],
   "source": [
    "vocab_size = 5000\n",
    "embedding_dim = 64\n",
    "max_length = 200\n",
    "trunc_type = 'post'\n",
    "padding_type = 'post'\n",
    "oov_tok = ''\n",
    "training_portion = .8"
   ]
  },
  {
   "cell_type": "markdown",
   "id": "ee26d097-d838-40df-869c-f350e359a3c9",
   "metadata": {},
   "source": [
    "# Read the CSV data"
   ]
  },
  {
   "cell_type": "code",
   "execution_count": null,
   "id": "66cb8ec1-9ab0-4bc6-8b3f-819f0f485252",
   "metadata": {},
   "outputs": [],
   "source": [
    "labels = []\n",
    "messages = []\n",
    "\n",
    "\n",
    "\n",
    "\n",
    "\n"
   ]
  },
  {
   "cell_type": "markdown",
   "id": "a37a7402-879d-4305-8176-07c80c5cd07a",
   "metadata": {},
   "source": [
    "# Remove unused fields."
   ]
  },
  {
   "cell_type": "code",
   "execution_count": null,
   "id": "171fd914-6346-4798-9785-c226cf300d97",
   "metadata": {},
   "outputs": [],
   "source": []
  },
  {
   "cell_type": "markdown",
   "id": "34d1a712-efce-44da-a688-540321074269",
   "metadata": {},
   "source": [
    "# Keep only the message in the JSON."
   ]
  }
 ],
 "metadata": {
  "kernelspec": {
   "display_name": "Python 3 (ipykernel)",
   "language": "python",
   "name": "python3"
  },
  "language_info": {
   "codemirror_mode": {
    "name": "ipython",
    "version": 3
   },
   "file_extension": ".py",
   "mimetype": "text/x-python",
   "name": "python",
   "nbconvert_exporter": "python",
   "pygments_lexer": "ipython3",
   "version": "3.9.6"
  },
  "toc-autonumbering": true,
  "toc-showcode": false,
  "toc-showmarkdowntxt": false,
  "toc-showtags": false
 },
 "nbformat": 4,
 "nbformat_minor": 5
}
