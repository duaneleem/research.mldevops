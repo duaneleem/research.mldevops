{
 "cells": [
  {
   "cell_type": "markdown",
   "id": "0db9b77c-964f-407e-b8f9-eecc643c0e26",
   "metadata": {},
   "source": [
    "# Overview\n",
    "\n",
    "We will be doing the following to create a Deep Neural Network using RNN and Softmax as the activation output layer:\n",
    "\n",
    "- Instantiate required Python components.\n",
    "- Set Hyperparameters\n",
    "- Read the CSV data\n",
    "- Remove unused fields.\n",
    "- Keep only the message in the JSON.\n",
    "- Define two lists: messages and labels.\n",
    "- Split data between training and validation sets.\n",
    "- Tokenize words\n",
    "- Pad sequences so they are the same size.\n",
    "- Build LSTM\n",
    "- Train several epochs.\n",
    "- Plot Loss and Accuracy to view model's performance.\n",
    "- Make predictions.\n"
   ]
  },
  {
   "cell_type": "markdown",
   "id": "07974922-a04d-4d27-a4e1-2e059136e330",
   "metadata": {
    "tags": []
   },
   "source": [
    "# Instantiate required Python components.\n",
    "\n",
    "Our project will use TensorFlow for developing our model.  We'll also need several other Python libraries to work with our CSV."
   ]
  },
  {
   "cell_type": "code",
   "execution_count": 1,
   "id": "89e8ed13-8ce2-42f3-a1e2-31e9c62f6bfe",
   "metadata": {
    "scrolled": true,
    "tags": []
   },
   "outputs": [
    {
     "name": "stderr",
     "output_type": "stream",
     "text": [
      "2023-01-05 17:38:30.820522: I tensorflow/core/platform/cpu_feature_guard.cc:193] This TensorFlow binary is optimized with oneAPI Deep Neural Network Library (oneDNN) to use the following CPU instructions in performance-critical operations:  AVX2 FMA\n",
      "To enable them in other operations, rebuild TensorFlow with the appropriate compiler flags.\n",
      "2023-01-05 17:38:30.925957: W tensorflow/compiler/xla/stream_executor/platform/default/dso_loader.cc:64] Could not load dynamic library 'libcudart.so.11.0'; dlerror: libcudart.so.11.0: cannot open shared object file: No such file or directory\n",
      "2023-01-05 17:38:30.925979: I tensorflow/compiler/xla/stream_executor/cuda/cudart_stub.cc:29] Ignore above cudart dlerror if you do not have a GPU set up on your machine.\n",
      "2023-01-05 17:38:31.489886: W tensorflow/compiler/xla/stream_executor/platform/default/dso_loader.cc:64] Could not load dynamic library 'libnvinfer.so.7'; dlerror: libnvinfer.so.7: cannot open shared object file: No such file or directory\n",
      "2023-01-05 17:38:31.489980: W tensorflow/compiler/xla/stream_executor/platform/default/dso_loader.cc:64] Could not load dynamic library 'libnvinfer_plugin.so.7'; dlerror: libnvinfer_plugin.so.7: cannot open shared object file: No such file or directory\n",
      "2023-01-05 17:38:31.489991: W tensorflow/compiler/tf2tensorrt/utils/py_utils.cc:38] TF-TRT Warning: Cannot dlopen some TensorRT libraries. If you would like to use Nvidia GPU with TensorRT, please make sure the missing libraries mentioned above are installed properly.\n",
      "[nltk_data] Downloading package stopwords to /home/jovyan/nltk_data...\n",
      "[nltk_data]   Package stopwords is already up-to-date!\n"
     ]
    }
   ],
   "source": [
    "import pandas as pd\n",
    "import csv\n",
    "import numpy as np\n",
    "import tensorflow as tf\n",
    "from tensorflow.keras.preprocessing.text import Tokenizer\n",
    "from tensorflow.keras.preprocessing.sequence import pad_sequences\n",
    "\n",
    "import nltk\n",
    "from nltk.corpus import stopwords\n",
    "nltk.download('stopwords')\n",
    "STOPWORDS = set(stopwords.words('english'))"
   ]
  },
  {
   "cell_type": "markdown",
   "id": "3f0610d5-1a17-47e6-ac18-706fd3aa2afa",
   "metadata": {},
   "source": [
    "# Set Hyperparameters\n",
    "\n",
    "This handy section will control all the important parameters for our model."
   ]
  },
  {
   "cell_type": "code",
   "execution_count": 2,
   "id": "5b0bb137-dda7-49bf-ac86-7926304b5a93",
   "metadata": {},
   "outputs": [],
   "source": [
    "vocab_size = 5000\n",
    "embedding_dim = 64\n",
    "max_length = 200\n",
    "trunc_type = 'post'\n",
    "padding_type = 'post'\n",
    "oov_tok = ''\n",
    "training_portion = .8\n",
    "\n",
    "# The file that contains the data.\n",
    "FILE_MESSAGES = \"./rnn-softmax-multi-class-text-classify/data/20221220-message-incidents.csv\""
   ]
  },
  {
   "cell_type": "markdown",
   "id": "ee26d097-d838-40df-869c-f350e359a3c9",
   "metadata": {
    "tags": []
   },
   "source": [
    "# Read the CSV data\n",
    "\n",
    "Read the CSV contents and keep only specific fields."
   ]
  },
  {
   "cell_type": "code",
   "execution_count": 3,
   "id": "66cb8ec1-9ab0-4bc6-8b3f-819f0f485252",
   "metadata": {
    "scrolled": true,
    "tags": []
   },
   "outputs": [],
   "source": [
    "labels = []\n",
    "messages = []\n",
    "\n",
    "# Open file and save to dataframe.\n",
    "df = pd.read_csv(FILE_MESSAGES)\n",
    "\n",
    "# print(df.columns)"
   ]
  },
  {
   "cell_type": "markdown",
   "id": "21aef30a-f913-4427-80ee-b8f9fff9931d",
   "metadata": {},
   "source": [
    "# Preprocess Data\n",
    "\n",
    "As part of the Machine Learning process, we will remove fields not required, fix missing values, remove noisy data, and any additional steps to prepare for the ML training process."
   ]
  },
  {
   "cell_type": "markdown",
   "id": "22eb0ac4-2b12-4db2-9895-b49c5223f0e4",
   "metadata": {},
   "source": [
    "## Keep Labels and Messages\n",
    "\n",
    "We will keep only specific columns that is important to the model."
   ]
  },
  {
   "cell_type": "code",
   "execution_count": 4,
   "id": "287fb391-1c0d-4299-94b6-c80f1592badf",
   "metadata": {},
   "outputs": [
    {
     "name": "stdout",
     "output_type": "stream",
     "text": [
      "Index(['reason', 'messages'], dtype='object')\n"
     ]
    }
   ],
   "source": [
    "# Keep specific columns.\n",
    "df = df[[\"reason\", \"messages\"]]\n",
    "\n",
    "print(df.columns)"
   ]
  },
  {
   "cell_type": "markdown",
   "id": "d82fd4f1-1613-4358-add6-7b7023c0987a",
   "metadata": {},
   "source": [
    "## Remove Empty Messages Data\n",
    "\n",
    "Let's remove any message column if the array is empty."
   ]
  },
  {
   "cell_type": "code",
   "execution_count": 5,
   "id": "79eff994-70c7-4bc3-9166-ba8689ea1701",
   "metadata": {},
   "outputs": [
    {
     "name": "stdout",
     "output_type": "stream",
     "text": [
      "Total number of rows after removing empty lists: 4042\n"
     ]
    }
   ],
   "source": [
    "# Create a boolean mask to select columns with only empty lists\n",
    "removeEmptyMessages = df['messages'].apply(lambda x: x == '[]')\n",
    "\n",
    "# Use the mask to drop the columns with only empty lists\n",
    "df = df.drop(index=df[removeEmptyMessages].index)\n",
    "\n",
    "print(f'Total number of rows after removing empty lists: {len(df)}')"
   ]
  },
  {
   "cell_type": "markdown",
   "id": "8ee313a6-43a2-4db1-9ce2-9ab1b0f71b31",
   "metadata": {},
   "source": [
    "## ▶️ Remove JSON and Keep Message Field\n",
    "\n",
    "We will remove the JSON formatting and keep the message field."
   ]
  },
  {
   "cell_type": "code",
   "execution_count": 6,
   "id": "5ed53d14-4f38-4e75-8e92-2ff16779b3d1",
   "metadata": {},
   "outputs": [],
   "source": [
    "import json\n",
    "\n",
    "# Define a function to extract the message field from the JSON\n",
    "def extract_message(messageString):\n",
    "    # Convert from String to JSON\n",
    "    messageToJson = json.loads(messageString)\n",
    "    \n",
    "    return messageToJson[0]['message']\n",
    "\n",
    "# Apply the function to the 'json' column and create a new 'message' column with the 1st message only.\n",
    "df['singleMessage'] = df['messages'].apply(extract_message)\n"
   ]
  },
  {
   "cell_type": "markdown",
   "id": "a37a7402-879d-4305-8176-07c80c5cd07a",
   "metadata": {},
   "source": [
    "## Remove unused fields."
   ]
  },
  {
   "cell_type": "code",
   "execution_count": 7,
   "id": "4c23bf0e-2645-4d04-b47d-f9577f66485c",
   "metadata": {},
   "outputs": [
    {
     "data": {
      "text/html": [
       "<div>\n",
       "<style scoped>\n",
       "    .dataframe tbody tr th:only-of-type {\n",
       "        vertical-align: middle;\n",
       "    }\n",
       "\n",
       "    .dataframe tbody tr th {\n",
       "        vertical-align: top;\n",
       "    }\n",
       "\n",
       "    .dataframe thead th {\n",
       "        text-align: right;\n",
       "    }\n",
       "</style>\n",
       "<table border=\"1\" class=\"dataframe\">\n",
       "  <thead>\n",
       "    <tr style=\"text-align: right;\">\n",
       "      <th></th>\n",
       "      <th>reason</th>\n",
       "      <th>singleMessage</th>\n",
       "    </tr>\n",
       "  </thead>\n",
       "  <tbody>\n",
       "    <tr>\n",
       "      <th>0</th>\n",
       "      <td>Account number visible. Please remove from con...</td>\n",
       "      <td>a.b.c.warriortrading.com</td>\n",
       "    </tr>\n",
       "    <tr>\n",
       "      <th>1</th>\n",
       "      <td>Inappropriate comment.</td>\n",
       "      <td>mammkd. sdkkf</td>\n",
       "    </tr>\n",
       "    <tr>\n",
       "      <th>2</th>\n",
       "      <td>Caps for tickers only.</td>\n",
       "      <td>wattior</td>\n",
       "    </tr>\n",
       "    <tr>\n",
       "      <th>3</th>\n",
       "      <td>Caps for tickers only.</td>\n",
       "      <td>wattior</td>\n",
       "    </tr>\n",
       "    <tr>\n",
       "      <th>4</th>\n",
       "      <td>Inappropriate comment.</td>\n",
       "      <td>wattior</td>\n",
       "    </tr>\n",
       "    <tr>\n",
       "      <th>...</th>\n",
       "      <td>...</td>\n",
       "      <td>...</td>\n",
       "    </tr>\n",
       "    <tr>\n",
       "      <th>4115</th>\n",
       "      <td>Per our Chat Room rules, we ask that capital l...</td>\n",
       "      <td>NICE SAW IT</td>\n",
       "    </tr>\n",
       "    <tr>\n",
       "      <th>4116</th>\n",
       "      <td>Your message was deleted as it was deemed to b...</td>\n",
       "      <td>Jorge is killing it right now, y'all XD</td>\n",
       "    </tr>\n",
       "    <tr>\n",
       "      <th>4117</th>\n",
       "      <td>This post is best for the Lounge where we enco...</td>\n",
       "      <td>I guarantee you Jorge just made my salary toda...</td>\n",
       "    </tr>\n",
       "    <tr>\n",
       "      <th>4118</th>\n",
       "      <td>Your message was deleted as it was deemed to b...</td>\n",
       "      <td>gm Mark.  We've been passing around the [$XBI]...</td>\n",
       "    </tr>\n",
       "    <tr>\n",
       "      <th>4119</th>\n",
       "      <td>Your message was deleted as it was deemed to b...</td>\n",
       "      <td>In the UK we say \"sh** my pants\" [$ATNF](https...</td>\n",
       "    </tr>\n",
       "  </tbody>\n",
       "</table>\n",
       "<p>4042 rows × 2 columns</p>\n",
       "</div>"
      ],
      "text/plain": [
       "                                                 reason  \\\n",
       "0     Account number visible. Please remove from con...   \n",
       "1                                Inappropriate comment.   \n",
       "2                                Caps for tickers only.   \n",
       "3                                Caps for tickers only.   \n",
       "4                                Inappropriate comment.   \n",
       "...                                                 ...   \n",
       "4115  Per our Chat Room rules, we ask that capital l...   \n",
       "4116  Your message was deleted as it was deemed to b...   \n",
       "4117  This post is best for the Lounge where we enco...   \n",
       "4118  Your message was deleted as it was deemed to b...   \n",
       "4119  Your message was deleted as it was deemed to b...   \n",
       "\n",
       "                                          singleMessage  \n",
       "0                              a.b.c.warriortrading.com  \n",
       "1                                         mammkd. sdkkf  \n",
       "2                                               wattior  \n",
       "3                                               wattior  \n",
       "4                                               wattior  \n",
       "...                                                 ...  \n",
       "4115                                        NICE SAW IT  \n",
       "4116            Jorge is killing it right now, y'all XD  \n",
       "4117  I guarantee you Jorge just made my salary toda...  \n",
       "4118  gm Mark.  We've been passing around the [$XBI]...  \n",
       "4119  In the UK we say \"sh** my pants\" [$ATNF](https...  \n",
       "\n",
       "[4042 rows x 2 columns]"
      ]
     },
     "execution_count": 7,
     "metadata": {},
     "output_type": "execute_result"
    }
   ],
   "source": [
    "# Remove 'messages'\n",
    "# Documentation: https://pandas.pydata.org/docs/reference/api/pandas.DataFrame.drop.html\n",
    "df.drop(['messages'], axis=1)\n"
   ]
  },
  {
   "cell_type": "markdown",
   "id": "60decb93-0686-4997-bd34-f842715a00d5",
   "metadata": {},
   "source": []
  }
 ],
 "metadata": {
  "kernelspec": {
   "display_name": "Python 3 (ipykernel)",
   "language": "python",
   "name": "python3"
  },
  "language_info": {
   "codemirror_mode": {
    "name": "ipython",
    "version": 3
   },
   "file_extension": ".py",
   "mimetype": "text/x-python",
   "name": "python",
   "nbconvert_exporter": "python",
   "pygments_lexer": "ipython3",
   "version": "3.9.6"
  },
  "toc-autonumbering": true,
  "toc-showcode": false,
  "toc-showmarkdowntxt": false,
  "toc-showtags": true
 },
 "nbformat": 4,
 "nbformat_minor": 5
}
