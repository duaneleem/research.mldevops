{
 "cells": [
  {
   "cell_type": "markdown",
   "id": "489a8c78-df37-4e04-bce4-b19a8f9e7af8",
   "metadata": {},
   "source": [
    "# Overview\n",
    "\n",
    "We'll add more politics content to the dataset:\n",
    "\n",
    "- [Kaggle: Politics on Reddit](https://www.kaggle.com/datasets/gpreda/politics-on-reddit)\n"
   ]
  },
  {
   "cell_type": "markdown",
   "id": "df5496b4-115f-4327-a560-945406c9f5d4",
   "metadata": {},
   "source": [
    "# Instantiate required Python components.\n",
    "\n",
    "Our project will use TensorFlow for developing our model.  We'll also need several other Python libraries to work with our CSV."
   ]
  },
  {
   "cell_type": "code",
   "execution_count": null,
   "id": "38894e00-2d57-45b2-97e1-8bf7f2d8524d",
   "metadata": {},
   "outputs": [],
   "source": [
    "import re\n",
    "import pandas as pd\n",
    "import csv\n",
    "import numpy as np\n",
    "# import tensorflow as tf\n",
    "# from tensorflow.keras.preprocessing.text import Tokenizer\n",
    "# from tensorflow.keras.preprocessing.sequence import pad_sequences\n",
    "\n",
    "import nltk\n",
    "from nltk.corpus import stopwords\n",
    "nltk.download('stopwords')\n",
    "STOPWORDS = set(stopwords.words('english'))\n",
    "\n",
    "# Used for Troubleshooting\n",
    "from IPython.display import display"
   ]
  },
  {
   "cell_type": "markdown",
   "id": "df652f64-aeac-4d77-b06c-61855952a24c",
   "metadata": {},
   "source": [
    "# Set Hyperparameters\n",
    "\n",
    "This handy section will control all the important parameters for our model."
   ]
  },
  {
   "cell_type": "code",
   "execution_count": null,
   "id": "05ccd943-da5c-4a21-9969-0922ed04ee8b",
   "metadata": {},
   "outputs": [],
   "source": [
    "# The file that contains the data.\n",
    "FILE_MESSAGES = \"./data/20230324-kaggle-politics.csv\""
   ]
  },
  {
   "cell_type": "markdown",
   "id": "4d7c8c46-78ba-491a-a7b5-100ea65279db",
   "metadata": {},
   "source": [
    "# Read the CSV data\n",
    "\n",
    "Read the CSV contents and keep only specific fields."
   ]
  },
  {
   "cell_type": "code",
   "execution_count": null,
   "id": "f6fb4319-1d04-4b4e-ab82-a103848ee268",
   "metadata": {},
   "outputs": [],
   "source": [
    "# Open file and save to dataframe.\n",
    "df = pd.read_csv(FILE_MESSAGES)\n",
    "\n",
    "#print(df.columns)\n",
    "display(df)"
   ]
  },
  {
   "cell_type": "markdown",
   "id": "b5aee28c-4aa6-4799-88a8-34cf028bdb0b",
   "metadata": {},
   "source": [
    "# Preprocess Data\n",
    "\n",
    "As part of the Machine Learning process, we will remove fields not required, fix missing values, remove noisy data, and any additional steps to prepare for the ML training process."
   ]
  },
  {
   "cell_type": "markdown",
   "id": "573c79ec-9739-4661-a5fe-dc41c103bb34",
   "metadata": {},
   "source": [
    "## Remove Bad Entries\n",
    "\n",
    "There are several entries that is useless to Machine Learning.  Let's remove those."
   ]
  },
  {
   "cell_type": "code",
   "execution_count": null,
   "id": "c65b9651-7924-4478-b055-e841d1408ad6",
   "metadata": {},
   "outputs": [],
   "source": []
  },
  {
   "cell_type": "markdown",
   "id": "d055f427-2f78-4278-bd95-f3147f822f21",
   "metadata": {},
   "source": [
    "## Keep Labels and Messages\n",
    "\n",
    "We will keep only specific columns that is important to the model."
   ]
  },
  {
   "cell_type": "code",
   "execution_count": null,
   "id": "21118d6b-ab35-465c-8518-c1ccb9d269ff",
   "metadata": {},
   "outputs": [],
   "source": [
    "# Keep specific columns.\n",
    "df = df[[\"title\"]]\n",
    "\n",
    "print(df.columns)\n",
    "print(f'Total number of rows: {len(df)}')"
   ]
  },
  {
   "cell_type": "code",
   "execution_count": null,
   "id": "2ff50731-0d29-460c-8dc6-d908eab85ced",
   "metadata": {},
   "outputs": [],
   "source": []
  },
  {
   "cell_type": "code",
   "execution_count": null,
   "id": "23d52c62-0719-47d1-89e0-71183932e425",
   "metadata": {},
   "outputs": [],
   "source": []
  },
  {
   "cell_type": "code",
   "execution_count": null,
   "id": "209d9dcd-532f-485e-b6b6-daadf448c8d5",
   "metadata": {},
   "outputs": [],
   "source": []
  },
  {
   "cell_type": "code",
   "execution_count": null,
   "id": "2c6150c3-b1a7-4e54-9c4a-94bcac8e9648",
   "metadata": {},
   "outputs": [],
   "source": []
  },
  {
   "cell_type": "code",
   "execution_count": null,
   "id": "8075679b-2519-4afc-9dc1-100364cc46bf",
   "metadata": {},
   "outputs": [],
   "source": []
  }
 ],
 "metadata": {
  "kernelspec": {
   "display_name": "Python 3 (ipykernel)",
   "language": "python",
   "name": "python3"
  },
  "language_info": {
   "codemirror_mode": {
    "name": "ipython",
    "version": 3
   },
   "file_extension": ".py",
   "mimetype": "text/x-python",
   "name": "python",
   "nbconvert_exporter": "python",
   "pygments_lexer": "ipython3",
   "version": "3.9.6"
  }
 },
 "nbformat": 4,
 "nbformat_minor": 5
}
