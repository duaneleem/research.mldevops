{
 "cells": [
  {
   "cell_type": "markdown",
   "id": "489a8c78-df37-4e04-bce4-b19a8f9e7af8",
   "metadata": {},
   "source": [
    "# Overview\n",
    "\n",
    "We'll add more politics content to the dataset:\n",
    "\n",
    "- [Kaggle: Politics on Reddit](https://www.kaggle.com/datasets/gpreda/politics-on-reddit)\n"
   ]
  },
  {
   "cell_type": "markdown",
   "id": "df5496b4-115f-4327-a560-945406c9f5d4",
   "metadata": {},
   "source": [
    "# Instantiate required Python components.\n",
    "\n",
    "Our project will use TensorFlow for developing our model.  We'll also need several other Python libraries to work with our CSV."
   ]
  },
  {
   "cell_type": "code",
   "execution_count": 1,
   "id": "38894e00-2d57-45b2-97e1-8bf7f2d8524d",
   "metadata": {},
   "outputs": [
    {
     "name": "stderr",
     "output_type": "stream",
     "text": [
      "[nltk_data] Downloading package stopwords to /home/jovyan/nltk_data...\n",
      "[nltk_data]   Package stopwords is already up-to-date!\n"
     ]
    }
   ],
   "source": [
    "import re\n",
    "import pandas as pd\n",
    "import csv\n",
    "import numpy as np\n",
    "# import tensorflow as tf\n",
    "# from tensorflow.keras.preprocessing.text import Tokenizer\n",
    "# from tensorflow.keras.preprocessing.sequence import pad_sequences\n",
    "\n",
    "import nltk\n",
    "from nltk.corpus import stopwords\n",
    "nltk.download('stopwords')\n",
    "STOPWORDS = set(stopwords.words('english'))\n",
    "\n",
    "# Used for Troubleshooting\n",
    "from IPython.display import display"
   ]
  },
  {
   "cell_type": "markdown",
   "id": "df652f64-aeac-4d77-b06c-61855952a24c",
   "metadata": {},
   "source": [
    "# Set Hyperparameters\n",
    "\n",
    "This handy section will control all the important parameters for our model."
   ]
  },
  {
   "cell_type": "code",
   "execution_count": 2,
   "id": "05ccd943-da5c-4a21-9969-0922ed04ee8b",
   "metadata": {},
   "outputs": [],
   "source": [
    "# The file that contains the data.\n",
    "FILE_MESSAGES = \"./data/sources/politics-reddit.csv\""
   ]
  },
  {
   "cell_type": "markdown",
   "id": "4d7c8c46-78ba-491a-a7b5-100ea65279db",
   "metadata": {},
   "source": [
    "# Read the CSV data\n",
    "\n",
    "Read the CSV contents and keep only specific fields."
   ]
  },
  {
   "cell_type": "code",
   "execution_count": 3,
   "id": "f6fb4319-1d04-4b4e-ab82-a103848ee268",
   "metadata": {},
   "outputs": [
    {
     "data": {
      "text/html": [
       "<div>\n",
       "<style scoped>\n",
       "    .dataframe tbody tr th:only-of-type {\n",
       "        vertical-align: middle;\n",
       "    }\n",
       "\n",
       "    .dataframe tbody tr th {\n",
       "        vertical-align: top;\n",
       "    }\n",
       "\n",
       "    .dataframe thead th {\n",
       "        text-align: right;\n",
       "    }\n",
       "</style>\n",
       "<table border=\"1\" class=\"dataframe\">\n",
       "  <thead>\n",
       "    <tr style=\"text-align: right;\">\n",
       "      <th></th>\n",
       "      <th>title</th>\n",
       "      <th>score</th>\n",
       "      <th>id</th>\n",
       "      <th>url</th>\n",
       "      <th>comms_num</th>\n",
       "      <th>created</th>\n",
       "      <th>body</th>\n",
       "      <th>timestamp</th>\n",
       "    </tr>\n",
       "  </thead>\n",
       "  <tbody>\n",
       "    <tr>\n",
       "      <th>0</th>\n",
       "      <td>A Right Wing Group in Texas Is Making up Fake ...</td>\n",
       "      <td>166</td>\n",
       "      <td>ov1ll3</td>\n",
       "      <td>https://www.vice.com/en/article/wx5bg5/blm-whi...</td>\n",
       "      <td>34</td>\n",
       "      <td>1.627710e+09</td>\n",
       "      <td>NaN</td>\n",
       "      <td>2021-07-31 08:35:47</td>\n",
       "    </tr>\n",
       "    <tr>\n",
       "      <th>1</th>\n",
       "      <td>DOJ sues Texas over Gov. Abbott’s order for la...</td>\n",
       "      <td>85</td>\n",
       "      <td>ouwc9i</td>\n",
       "      <td>https://www.kxan.com/news/texas-politics/doj-s...</td>\n",
       "      <td>17</td>\n",
       "      <td>1.627688e+09</td>\n",
       "      <td>NaN</td>\n",
       "      <td>2021-07-31 02:26:12</td>\n",
       "    </tr>\n",
       "    <tr>\n",
       "      <th>2</th>\n",
       "      <td>From white evangelicals to QAnon believers, wh...</td>\n",
       "      <td>57</td>\n",
       "      <td>ouqkxi</td>\n",
       "      <td>https://www.modbee.com/news/coronavirus/articl...</td>\n",
       "      <td>27</td>\n",
       "      <td>1.627671e+09</td>\n",
       "      <td>NaN</td>\n",
       "      <td>2021-07-30 21:45:09</td>\n",
       "    </tr>\n",
       "    <tr>\n",
       "      <th>3</th>\n",
       "      <td>DeSantis says he’ll sign order allowing parent...</td>\n",
       "      <td>269</td>\n",
       "      <td>oun2lc</td>\n",
       "      <td>https://www.orlandosentinel.com/politics/os-ne...</td>\n",
       "      <td>138</td>\n",
       "      <td>1.627660e+09</td>\n",
       "      <td>NaN</td>\n",
       "      <td>2021-07-30 18:43:05</td>\n",
       "    </tr>\n",
       "    <tr>\n",
       "      <th>4</th>\n",
       "      <td>Show on the road: In Utah, Florida Gov. Ron De...</td>\n",
       "      <td>31</td>\n",
       "      <td>ouipnz</td>\n",
       "      <td>https://www.tallahassee.com/story/news/politic...</td>\n",
       "      <td>28</td>\n",
       "      <td>1.627644e+09</td>\n",
       "      <td>NaN</td>\n",
       "      <td>2021-07-30 14:21:54</td>\n",
       "    </tr>\n",
       "    <tr>\n",
       "      <th>...</th>\n",
       "      <td>...</td>\n",
       "      <td>...</td>\n",
       "      <td>...</td>\n",
       "      <td>...</td>\n",
       "      <td>...</td>\n",
       "      <td>...</td>\n",
       "      <td>...</td>\n",
       "      <td>...</td>\n",
       "    </tr>\n",
       "    <tr>\n",
       "      <th>28058</th>\n",
       "      <td>Comment</td>\n",
       "      <td>1</td>\n",
       "      <td>hociwir</td>\n",
       "      <td>NaN</td>\n",
       "      <td>0</td>\n",
       "      <td>1.639375e+09</td>\n",
       "      <td>lil'wayne got a pardon and not them ah ah</td>\n",
       "      <td>2021-12-13 07:48:46</td>\n",
       "    </tr>\n",
       "    <tr>\n",
       "      <th>28059</th>\n",
       "      <td>Comment</td>\n",
       "      <td>1</td>\n",
       "      <td>hociv7d</td>\n",
       "      <td>NaN</td>\n",
       "      <td>0</td>\n",
       "      <td>1.639375e+09</td>\n",
       "      <td>So you think it will be called unconstitutiona...</td>\n",
       "      <td>2021-12-13 07:48:25</td>\n",
       "    </tr>\n",
       "    <tr>\n",
       "      <th>28060</th>\n",
       "      <td>Comment</td>\n",
       "      <td>1</td>\n",
       "      <td>hociupn</td>\n",
       "      <td>NaN</td>\n",
       "      <td>0</td>\n",
       "      <td>1.639374e+09</td>\n",
       "      <td>The left of America has out numbered the right...</td>\n",
       "      <td>2021-12-13 07:48:16</td>\n",
       "    </tr>\n",
       "    <tr>\n",
       "      <th>28061</th>\n",
       "      <td>Comment</td>\n",
       "      <td>1</td>\n",
       "      <td>hociuet</td>\n",
       "      <td>NaN</td>\n",
       "      <td>0</td>\n",
       "      <td>1.639374e+09</td>\n",
       "      <td>Everyone spread the word…I just set fire on water</td>\n",
       "      <td>2021-12-13 07:48:10</td>\n",
       "    </tr>\n",
       "    <tr>\n",
       "      <th>28062</th>\n",
       "      <td>Comment</td>\n",
       "      <td>1</td>\n",
       "      <td>hociubl</td>\n",
       "      <td>NaN</td>\n",
       "      <td>0</td>\n",
       "      <td>1.639374e+09</td>\n",
       "      <td>Starting to feel like congress should let DOJ ...</td>\n",
       "      <td>2021-12-13 07:48:09</td>\n",
       "    </tr>\n",
       "  </tbody>\n",
       "</table>\n",
       "<p>28063 rows × 8 columns</p>\n",
       "</div>"
      ],
      "text/plain": [
       "                                                   title  score       id  \\\n",
       "0      A Right Wing Group in Texas Is Making up Fake ...    166   ov1ll3   \n",
       "1      DOJ sues Texas over Gov. Abbott’s order for la...     85   ouwc9i   \n",
       "2      From white evangelicals to QAnon believers, wh...     57   ouqkxi   \n",
       "3      DeSantis says he’ll sign order allowing parent...    269   oun2lc   \n",
       "4      Show on the road: In Utah, Florida Gov. Ron De...     31   ouipnz   \n",
       "...                                                  ...    ...      ...   \n",
       "28058                                            Comment      1  hociwir   \n",
       "28059                                            Comment      1  hociv7d   \n",
       "28060                                            Comment      1  hociupn   \n",
       "28061                                            Comment      1  hociuet   \n",
       "28062                                            Comment      1  hociubl   \n",
       "\n",
       "                                                     url  comms_num  \\\n",
       "0      https://www.vice.com/en/article/wx5bg5/blm-whi...         34   \n",
       "1      https://www.kxan.com/news/texas-politics/doj-s...         17   \n",
       "2      https://www.modbee.com/news/coronavirus/articl...         27   \n",
       "3      https://www.orlandosentinel.com/politics/os-ne...        138   \n",
       "4      https://www.tallahassee.com/story/news/politic...         28   \n",
       "...                                                  ...        ...   \n",
       "28058                                                NaN          0   \n",
       "28059                                                NaN          0   \n",
       "28060                                                NaN          0   \n",
       "28061                                                NaN          0   \n",
       "28062                                                NaN          0   \n",
       "\n",
       "            created                                               body  \\\n",
       "0      1.627710e+09                                                NaN   \n",
       "1      1.627688e+09                                                NaN   \n",
       "2      1.627671e+09                                                NaN   \n",
       "3      1.627660e+09                                                NaN   \n",
       "4      1.627644e+09                                                NaN   \n",
       "...             ...                                                ...   \n",
       "28058  1.639375e+09          lil'wayne got a pardon and not them ah ah   \n",
       "28059  1.639375e+09  So you think it will be called unconstitutiona...   \n",
       "28060  1.639374e+09  The left of America has out numbered the right...   \n",
       "28061  1.639374e+09  Everyone spread the word…I just set fire on water   \n",
       "28062  1.639374e+09  Starting to feel like congress should let DOJ ...   \n",
       "\n",
       "                 timestamp  \n",
       "0      2021-07-31 08:35:47  \n",
       "1      2021-07-31 02:26:12  \n",
       "2      2021-07-30 21:45:09  \n",
       "3      2021-07-30 18:43:05  \n",
       "4      2021-07-30 14:21:54  \n",
       "...                    ...  \n",
       "28058  2021-12-13 07:48:46  \n",
       "28059  2021-12-13 07:48:25  \n",
       "28060  2021-12-13 07:48:16  \n",
       "28061  2021-12-13 07:48:10  \n",
       "28062  2021-12-13 07:48:09  \n",
       "\n",
       "[28063 rows x 8 columns]"
      ]
     },
     "metadata": {},
     "output_type": "display_data"
    }
   ],
   "source": [
    "# Open file and save to dataframe.\n",
    "df = pd.read_csv(FILE_MESSAGES)\n",
    "\n",
    "#print(df.columns)\n",
    "display(df)"
   ]
  },
  {
   "cell_type": "markdown",
   "id": "b5aee28c-4aa6-4799-88a8-34cf028bdb0b",
   "metadata": {},
   "source": [
    "# Preprocess Data\n",
    "\n",
    "As part of the Machine Learning process, we will remove fields not required, fix missing values, remove noisy data, and any additional steps to prepare for the ML training process."
   ]
  },
  {
   "cell_type": "markdown",
   "id": "513028a5-92b4-47c6-b0fc-af52f9abc46a",
   "metadata": {},
   "source": [
    "## Remove Empty Messages"
   ]
  },
  {
   "cell_type": "code",
   "execution_count": 4,
   "id": "02969d92-ef86-4e93-a1e0-8438b35f5006",
   "metadata": {},
   "outputs": [],
   "source": [
    "# Remove rows that have empty data (missing values) in the specified column\n",
    "df = df[df[\"body\"].notna()]"
   ]
  },
  {
   "cell_type": "markdown",
   "id": "d055f427-2f78-4278-bd95-f3147f822f21",
   "metadata": {},
   "source": [
    "## Keep Labels and Messages\n",
    "\n",
    "We will keep only specific columns that is important to the model."
   ]
  },
  {
   "cell_type": "code",
   "execution_count": 5,
   "id": "21118d6b-ab35-465c-8518-c1ccb9d269ff",
   "metadata": {},
   "outputs": [
    {
     "name": "stdout",
     "output_type": "stream",
     "text": [
      "Index(['body'], dtype='object')\n",
      "Total number of rows: 18068\n"
     ]
    }
   ],
   "source": [
    "# Keep specific columns.\n",
    "df = df[[\"body\"]]\n",
    "\n",
    "print(df.columns)\n",
    "print(f'Total number of rows: {len(df)}')"
   ]
  },
  {
   "cell_type": "markdown",
   "id": "98350522-a2d6-4969-9189-3f932082b652",
   "metadata": {},
   "source": [
    "## Label Data with Bad Words as Inappropriate"
   ]
  },
  {
   "cell_type": "code",
   "execution_count": null,
   "id": "069cd6e3-3767-4b7c-8a69-e27205ebb5cd",
   "metadata": {},
   "outputs": [],
   "source": []
  },
  {
   "cell_type": "markdown",
   "id": "070af7d1-f98c-4b38-950d-289ca3943bbb",
   "metadata": {},
   "source": [
    "## Add Reason Column\n",
    "\n",
    "Our two features we want to keep are:\n",
    "\n",
    "- reason\n",
    "- singleMessage\n",
    "\n",
    "We need to aim to format our datashape to that."
   ]
  },
  {
   "cell_type": "code",
   "execution_count": 6,
   "id": "23d52c62-0719-47d1-89e0-71183932e425",
   "metadata": {},
   "outputs": [],
   "source": [
    "# Add a new column called 'reason' with a single value for all rows\n",
    "df[\"reason\"] = \"Politics not allowed outside of references to the market.\""
   ]
  },
  {
   "cell_type": "markdown",
   "id": "1c3e4422-8de0-4678-abbb-21b0d92abe54",
   "metadata": {},
   "source": [
    "## Rename Column Names"
   ]
  },
  {
   "cell_type": "code",
   "execution_count": 7,
   "id": "2c6150c3-b1a7-4e54-9c4a-94bcac8e9648",
   "metadata": {},
   "outputs": [],
   "source": [
    "df = df.rename(columns={\"body\": \"singleMessage\"})"
   ]
  },
  {
   "cell_type": "markdown",
   "id": "580fad94-1671-4681-a550-1071d45827fe",
   "metadata": {
    "tags": []
   },
   "source": [
    "## Change Order of Columns"
   ]
  },
  {
   "cell_type": "code",
   "execution_count": 8,
   "id": "34932500-47f1-4ccb-a40e-2e2d898aafd4",
   "metadata": {},
   "outputs": [],
   "source": [
    "df = df[[\"reason\", \"singleMessage\"]]"
   ]
  },
  {
   "cell_type": "markdown",
   "id": "0f5ea656-63b4-42e5-8492-27dd6c6161b4",
   "metadata": {},
   "source": [
    "# Review Data Results"
   ]
  },
  {
   "cell_type": "code",
   "execution_count": 9,
   "id": "754118c7-7899-45f1-9869-9874df6ae9f3",
   "metadata": {},
   "outputs": [
    {
     "data": {
      "text/html": [
       "<div>\n",
       "<style scoped>\n",
       "    .dataframe tbody tr th:only-of-type {\n",
       "        vertical-align: middle;\n",
       "    }\n",
       "\n",
       "    .dataframe tbody tr th {\n",
       "        vertical-align: top;\n",
       "    }\n",
       "\n",
       "    .dataframe thead th {\n",
       "        text-align: right;\n",
       "    }\n",
       "</style>\n",
       "<table border=\"1\" class=\"dataframe\">\n",
       "  <thead>\n",
       "    <tr style=\"text-align: right;\">\n",
       "      <th></th>\n",
       "      <th>reason</th>\n",
       "      <th>singleMessage</th>\n",
       "    </tr>\n",
       "  </thead>\n",
       "  <tbody>\n",
       "    <tr>\n",
       "      <th>34</th>\n",
       "      <td>Politics not allowed outside of references to ...</td>\n",
       "      <td>I had the same reasoning when I watch fox news...</td>\n",
       "    </tr>\n",
       "    <tr>\n",
       "      <th>35</th>\n",
       "      <td>Politics not allowed outside of references to ...</td>\n",
       "      <td>Unethical fucks will always find a loophole.</td>\n",
       "    </tr>\n",
       "    <tr>\n",
       "      <th>36</th>\n",
       "      <td>Politics not allowed outside of references to ...</td>\n",
       "      <td>Failed actual coup.</td>\n",
       "    </tr>\n",
       "    <tr>\n",
       "      <th>37</th>\n",
       "      <td>Politics not allowed outside of references to ...</td>\n",
       "      <td>Why is trump even in the news anymore?</td>\n",
       "    </tr>\n",
       "    <tr>\n",
       "      <th>38</th>\n",
       "      <td>Politics not allowed outside of references to ...</td>\n",
       "      <td>And it could be my head in a basket...</td>\n",
       "    </tr>\n",
       "    <tr>\n",
       "      <th>...</th>\n",
       "      <td>...</td>\n",
       "      <td>...</td>\n",
       "    </tr>\n",
       "    <tr>\n",
       "      <th>28058</th>\n",
       "      <td>Politics not allowed outside of references to ...</td>\n",
       "      <td>lil'wayne got a pardon and not them ah ah</td>\n",
       "    </tr>\n",
       "    <tr>\n",
       "      <th>28059</th>\n",
       "      <td>Politics not allowed outside of references to ...</td>\n",
       "      <td>So you think it will be called unconstitutiona...</td>\n",
       "    </tr>\n",
       "    <tr>\n",
       "      <th>28060</th>\n",
       "      <td>Politics not allowed outside of references to ...</td>\n",
       "      <td>The left of America has out numbered the right...</td>\n",
       "    </tr>\n",
       "    <tr>\n",
       "      <th>28061</th>\n",
       "      <td>Politics not allowed outside of references to ...</td>\n",
       "      <td>Everyone spread the word…I just set fire on water</td>\n",
       "    </tr>\n",
       "    <tr>\n",
       "      <th>28062</th>\n",
       "      <td>Politics not allowed outside of references to ...</td>\n",
       "      <td>Starting to feel like congress should let DOJ ...</td>\n",
       "    </tr>\n",
       "  </tbody>\n",
       "</table>\n",
       "<p>18068 rows × 2 columns</p>\n",
       "</div>"
      ],
      "text/plain": [
       "                                                  reason  \\\n",
       "34     Politics not allowed outside of references to ...   \n",
       "35     Politics not allowed outside of references to ...   \n",
       "36     Politics not allowed outside of references to ...   \n",
       "37     Politics not allowed outside of references to ...   \n",
       "38     Politics not allowed outside of references to ...   \n",
       "...                                                  ...   \n",
       "28058  Politics not allowed outside of references to ...   \n",
       "28059  Politics not allowed outside of references to ...   \n",
       "28060  Politics not allowed outside of references to ...   \n",
       "28061  Politics not allowed outside of references to ...   \n",
       "28062  Politics not allowed outside of references to ...   \n",
       "\n",
       "                                           singleMessage  \n",
       "34     I had the same reasoning when I watch fox news...  \n",
       "35          Unethical fucks will always find a loophole.  \n",
       "36                                   Failed actual coup.  \n",
       "37                Why is trump even in the news anymore?  \n",
       "38                And it could be my head in a basket...  \n",
       "...                                                  ...  \n",
       "28058          lil'wayne got a pardon and not them ah ah  \n",
       "28059  So you think it will be called unconstitutiona...  \n",
       "28060  The left of America has out numbered the right...  \n",
       "28061  Everyone spread the word…I just set fire on water  \n",
       "28062  Starting to feel like congress should let DOJ ...  \n",
       "\n",
       "[18068 rows x 2 columns]"
      ]
     },
     "metadata": {},
     "output_type": "display_data"
    }
   ],
   "source": [
    "display(df)"
   ]
  },
  {
   "cell_type": "markdown",
   "id": "22fb9035-a972-4307-9240-33432d609c74",
   "metadata": {},
   "source": [
    "# 🚧 Save Data to Disk\n",
    "\n",
    "Let's save all our hard work formatting the dataframe to a CSV for future reference.\n",
    "\n",
    "- [Pandas DataFrame.to_csv](https://pandas.pydata.org/docs/reference/api/pandas.DataFrame.to_csv.html)"
   ]
  },
  {
   "cell_type": "code",
   "execution_count": 10,
   "id": "d9358b8e-619a-404c-8153-bf09f1c0d5ef",
   "metadata": {},
   "outputs": [],
   "source": [
    "df.to_csv('data/output/2-dataset-politics.csv', index=False)"
   ]
  },
  {
   "cell_type": "code",
   "execution_count": null,
   "id": "99cf0daa-6055-4a8e-98f3-3c0d4b427bde",
   "metadata": {},
   "outputs": [],
   "source": []
  }
 ],
 "metadata": {
  "kernelspec": {
   "display_name": "Python 3 (ipykernel)",
   "language": "python",
   "name": "python3"
  },
  "language_info": {
   "codemirror_mode": {
    "name": "ipython",
    "version": 3
   },
   "file_extension": ".py",
   "mimetype": "text/x-python",
   "name": "python",
   "nbconvert_exporter": "python",
   "pygments_lexer": "ipython3",
   "version": "3.9.6"
  },
  "toc-autonumbering": true,
  "toc-showmarkdowntxt": false
 },
 "nbformat": 4,
 "nbformat_minor": 5
}
