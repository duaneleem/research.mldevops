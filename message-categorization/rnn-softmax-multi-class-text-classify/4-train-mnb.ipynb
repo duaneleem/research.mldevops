{
 "cells": [
  {
   "cell_type": "markdown",
   "id": "e5472810-2b03-46cf-bab3-7bbf3eee8a65",
   "metadata": {},
   "source": [
    "# Overview: Naive Bayes\n",
    "\n",
    "We'll use [Naive Bayes](https://en.wikipedia.org/wiki/Naive_Bayes_classifier) to build our model."
   ]
  },
  {
   "cell_type": "code",
   "execution_count": 1,
   "id": "7615238f-422f-41fe-8911-58f841c7f785",
   "metadata": {},
   "outputs": [
    {
     "name": "stdout",
     "output_type": "stream",
     "text": [
      "Requirement already satisfied: scikit-learn in /opt/conda/lib/python3.9/site-packages (1.0)\n",
      "Requirement already satisfied: pandas in /opt/conda/lib/python3.9/site-packages (1.3.3)\n",
      "Requirement already satisfied: threadpoolctl>=2.0.0 in /opt/conda/lib/python3.9/site-packages (from scikit-learn) (3.0.0)\n",
      "Requirement already satisfied: scipy>=1.1.0 in /opt/conda/lib/python3.9/site-packages (from scikit-learn) (1.7.1)\n",
      "Requirement already satisfied: numpy>=1.14.6 in /opt/conda/lib/python3.9/site-packages (from scikit-learn) (1.20.3)\n",
      "Requirement already satisfied: joblib>=0.11 in /opt/conda/lib/python3.9/site-packages (from scikit-learn) (1.0.1)\n",
      "Requirement already satisfied: python-dateutil>=2.7.3 in /opt/conda/lib/python3.9/site-packages (from pandas) (2.8.2)\n",
      "Requirement already satisfied: pytz>=2017.3 in /opt/conda/lib/python3.9/site-packages (from pandas) (2021.1)\n",
      "Requirement already satisfied: six>=1.5 in /opt/conda/lib/python3.9/site-packages (from python-dateutil>=2.7.3->pandas) (1.16.0)\n",
      "Note: you may need to restart the kernel to use updated packages.\n"
     ]
    }
   ],
   "source": [
    "pip install scikit-learn pandas"
   ]
  },
  {
   "cell_type": "code",
   "execution_count": 3,
   "id": "adeba8e1-8d36-482f-ac80-324ce3c028a0",
   "metadata": {},
   "outputs": [
    {
     "name": "stdout",
     "output_type": "stream",
     "text": [
      "Classification Report:\n",
      "                                                                                                                                            precision    recall  f1-score   support\n",
      "\n",
      "\"Any discussion related in any way to market manipulation is strictly prohibited, as is advising others on whether to buy, sell, or hold.\"       0.00      0.00      0.00         8\n",
      "                                                                      Account number visible. Please remove from content before reposting.       0.00      0.00      0.00         1\n",
      "                                                                                                           Bullying a member or moderator.       0.00      0.00      0.00         8\n",
      "                                                                                                Bypassing the chat filters is not allowed.       0.00      0.00      0.00         6\n",
      "                                                                                                                    Caps for tickers only.       1.00      0.02      0.04        91\n",
      "                                                                                                                      English only please!       0.00      0.00      0.00         1\n",
      "                                                                                                           False information or no source.       0.00      0.00      0.00         3\n",
      "                                                                                                                        False information.       0.00      0.00      0.00         1\n",
      "                                                                                            False or misleading information, or no source.       0.00      0.00      0.00         1\n",
      "                                                                                                                    Inappropriate comment.       0.67      0.02      0.04        88\n",
      "                                                                                                                                 Off-topic       0.54      1.00      0.70       398\n",
      "                                                                                    Personal or sensitive information not allowed in chat.       0.00      0.00      0.00        39\n",
      "                                                                                 Politics not allowed outside of references to the market.       0.00      0.00      0.00        21\n",
      "                                                                       Reviewed by admin internally; not necessary to post to public chat.       0.00      0.00      0.00         9\n",
      "                                                                                  Support Room would be more appropriate for this inquiry.       0.00      0.00      0.00         2\n",
      "                                                                                                  Third-party links / content not allowed.       1.00      0.03      0.06        63\n",
      "                                                                                                                               competitor        0.00      0.00      0.00         1\n",
      "                                                                                                                                 no advice       0.00      0.00      0.00         1\n",
      "                                                                                                                              outside link       0.00      0.00      0.00         2\n",
      "                                                                                                                         possible password       0.00      0.00      0.00         1\n",
      "\n",
      "                                                                                                                                  accuracy                           0.54       745\n",
      "                                                                                                                                 macro avg       0.16      0.05      0.04       745\n",
      "                                                                                                                              weighted avg       0.57      0.54      0.39       745\n",
      "\n",
      "\n",
      "Accuracy:\n",
      "0.5422818791946309\n"
     ]
    },
    {
     "name": "stderr",
     "output_type": "stream",
     "text": [
      "/opt/conda/lib/python3.9/site-packages/sklearn/metrics/_classification.py:1308: UndefinedMetricWarning: Precision and F-score are ill-defined and being set to 0.0 in labels with no predicted samples. Use `zero_division` parameter to control this behavior.\n",
      "  _warn_prf(average, modifier, msg_start, len(result))\n",
      "/opt/conda/lib/python3.9/site-packages/sklearn/metrics/_classification.py:1308: UndefinedMetricWarning: Precision and F-score are ill-defined and being set to 0.0 in labels with no predicted samples. Use `zero_division` parameter to control this behavior.\n",
      "  _warn_prf(average, modifier, msg_start, len(result))\n",
      "/opt/conda/lib/python3.9/site-packages/sklearn/metrics/_classification.py:1308: UndefinedMetricWarning: Precision and F-score are ill-defined and being set to 0.0 in labels with no predicted samples. Use `zero_division` parameter to control this behavior.\n",
      "  _warn_prf(average, modifier, msg_start, len(result))\n"
     ]
    }
   ],
   "source": [
    "import pandas as pd\n",
    "from sklearn.feature_extraction.text import TfidfVectorizer\n",
    "from sklearn.model_selection import train_test_split\n",
    "from sklearn.naive_bayes import MultinomialNB\n",
    "from sklearn.metrics import classification_report, accuracy_score\n",
    "\n",
    "# Load the CSV\n",
    "file_path = 'data/preprocessed-data.csv'\n",
    "df = pd.read_csv(file_path)\n",
    "\n",
    "# Handle NaN values: choose one of the following methods\n",
    "df = df.dropna(subset=['singleMessage'])  # Method 1: Drop rows with NaN values\n",
    "# df['singleMessage'] = df['singleMessage'].fillna('')  # Method 2: Fill NaN values with a default string\n",
    "\n",
    "# Extract features and target\n",
    "X = df['singleMessage']\n",
    "y = df['reason']\n",
    "\n",
    "# Split the dataset into training and testing sets (70% training, 30% testing)\n",
    "X_train, X_test, y_train, y_test = train_test_split(X, y, test_size=0.3, random_state=42)\n",
    "\n",
    "# Preprocess the text data using TfidfVectorizer\n",
    "vectorizer = TfidfVectorizer()\n",
    "X_train_vectorized = vectorizer.fit_transform(X_train)\n",
    "X_test_vectorized = vectorizer.transform(X_test)\n",
    "\n",
    "# Train a Multinomial Naive Bayes classifier\n",
    "classifier = MultinomialNB()\n",
    "classifier.fit(X_train_vectorized, y_train)\n",
    "\n",
    "# Make predictions on the testing set\n",
    "y_pred = classifier.predict(X_test_vectorized)\n",
    "\n",
    "# Evaluate the classifier's performance\n",
    "print(\"Classification Report:\")\n",
    "print(classification_report(y_test, y_pred))\n",
    "print(\"\\nAccuracy:\")\n",
    "print(accuracy_score(y_test, y_pred))\n"
   ]
  },
  {
   "cell_type": "code",
   "execution_count": 13,
   "id": "7c857913-476e-421f-ab8c-132a1c750556",
   "metadata": {},
   "outputs": [
    {
     "name": "stdout",
     "output_type": "stream",
     "text": [
      "Off-topic: 0.5341\n",
      "Inappropriate comment.: 0.1583\n",
      "Caps for tickers only.: 0.0928\n",
      "Third-party links / content not allowed.: 0.0564\n",
      "Politics not allowed outside of references to the market.: 0.0462\n",
      "Personal or sensitive information not allowed in chat.: 0.0452\n",
      "\"Any discussion related in any way to market manipulation is strictly prohibited, as is advising others on whether to buy, sell, or hold.\": 0.0168\n",
      "Bullying a member or moderator.: 0.0100\n",
      "Reviewed by admin internally; not necessary to post to public chat.: 0.0080\n",
      "False information or no source.: 0.0065\n",
      "Bypassing the chat filters is not allowed.: 0.0065\n",
      "False or misleading information, or no source.: 0.0025\n",
      "Account number visible. Please remove from content before reposting.: 0.0025\n",
      "False information.: 0.0020\n",
      "Not sure what this is: 0.0020\n",
      "Support Room would be more appropriate for this inquiry.: 0.0020\n",
      "Perv is an inappropriate term please refrain from these kinds of discussions here: 0.0015\n",
      "password: 0.0010\n",
      "language please: 0.0005\n",
      "Language: 0.0005\n",
      "gray area: 0.0005\n",
      "Please provide more information when making comments like these. For example \"AFRM is being shorted every candle, so I think it's manipulated\" : 0.0005\n",
      "No reference to 3rd party contact: 0.0005\n",
      "Discord is not an allowed word in the room. Please don't bypass the filter : 0.0005\n",
      "CMEG complaint: 0.0005\n",
      "comments about market manipulation not allowed even if joking: 0.0005\n",
      "Might be searching for offline contact: 0.0005\n",
      "talking about drugs : 0.0005\n"
     ]
    }
   ],
   "source": [
    "# Example message to predict\n",
    "new_message = [\"Trump will win 2024\"]\n",
    "\n",
    "# Preprocess the new message\n",
    "new_message_vectorized = vectorizer.transform(new_message)\n",
    "\n",
    "# Predict the class probabilities\n",
    "class_probabilities = classifier.predict_proba(new_message_vectorized)\n",
    "\n",
    "# Sort the class probabilities in descending order along with their corresponding classes\n",
    "sorted_probabilities = sorted(zip(classifier.classes_, class_probabilities[0]), key=lambda x: x[1], reverse=True)\n",
    "\n",
    "# Print the sorted class probabilities\n",
    "for reason, probability in sorted_probabilities:\n",
    "    print(f\"{reason}: {probability:.4f}\")"
   ]
  },
  {
   "cell_type": "code",
   "execution_count": null,
   "id": "ca0acfb1-3448-4275-a31d-ed1d4066dfbb",
   "metadata": {},
   "outputs": [],
   "source": []
  }
 ],
 "metadata": {
  "kernelspec": {
   "display_name": "Python 3 (ipykernel)",
   "language": "python",
   "name": "python3"
  },
  "language_info": {
   "codemirror_mode": {
    "name": "ipython",
    "version": 3
   },
   "file_extension": ".py",
   "mimetype": "text/x-python",
   "name": "python",
   "nbconvert_exporter": "python",
   "pygments_lexer": "ipython3",
   "version": "3.10.11"
  }
 },
 "nbformat": 4,
 "nbformat_minor": 5
}
