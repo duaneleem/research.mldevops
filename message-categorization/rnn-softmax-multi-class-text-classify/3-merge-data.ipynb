{
 "cells": [
  {
   "cell_type": "markdown",
   "id": "f962bf4e-fd10-454b-a75a-0a5743bfddf1",
   "metadata": {},
   "source": [
    "# Overview\n",
    "\n",
    "We'll merge all extra data sets into one CSV."
   ]
  },
  {
   "cell_type": "markdown",
   "id": "4d6cb007-1cc5-4717-8ebb-93be64e206ca",
   "metadata": {},
   "source": [
    "# Instantiate required Python components.\n",
    "\n",
    "Our project will use TensorFlow for developing our model.  We'll also need several other Python libraries to work with our CSV."
   ]
  },
  {
   "cell_type": "code",
   "execution_count": 1,
   "id": "5a4d5bb6-4456-45d7-aede-46cb1764268a",
   "metadata": {},
   "outputs": [],
   "source": [
    "import re\n",
    "import pandas as pd\n",
    "import csv\n",
    "import numpy as np\n",
    "\n",
    "# Used for Troubleshooting\n",
    "from IPython.display import display"
   ]
  },
  {
   "cell_type": "markdown",
   "id": "e20a4639-992d-494c-ae06-5855b6d61ea1",
   "metadata": {},
   "source": [
    "# Set Hyperparameters\n",
    "\n",
    "Merge multiple files into one CSV.  Ensure that the columns are in the following order: reason, singleMessage"
   ]
  },
  {
   "cell_type": "code",
   "execution_count": 5,
   "id": "76770e5f-3c99-43d4-a0db-cf64f241574b",
   "metadata": {},
   "outputs": [],
   "source": [
    "# All the files to merge.\n",
    "FILE_MESSAGES = [\n",
    "    \"./data/output/2-dataset-politics.csv\",\n",
    "    \"./data/sources/20221220-message-incidents.csv\"\n",
    "]"
   ]
  },
  {
   "cell_type": "markdown",
   "id": "a3423a1a-48ee-464a-9f3a-7481c5679eec",
   "metadata": {},
   "source": [
    "# Read the CSV Data"
   ]
  },
  {
   "cell_type": "code",
   "execution_count": 6,
   "id": "31eae25f-1b01-491c-adcf-895f4d9dcf85",
   "metadata": {},
   "outputs": [
    {
     "name": "stdout",
     "output_type": "stream",
     "text": [
      "./data/output/2-dataset-politics.csv contains the correct columns.\n",
      "./data/sources/20221220-message-incidents.csv does not contain the correct columns.\n",
      "\n",
      "Combined DataFrame:\n",
      "                                                  reason  \\\n",
      "0      Politics not allowed outside of references to ...   \n",
      "1      Politics not allowed outside of references to ...   \n",
      "2      Politics not allowed outside of references to ...   \n",
      "3      Politics not allowed outside of references to ...   \n",
      "4      Politics not allowed outside of references to ...   \n",
      "...                                                  ...   \n",
      "18063  Politics not allowed outside of references to ...   \n",
      "18064  Politics not allowed outside of references to ...   \n",
      "18065  Politics not allowed outside of references to ...   \n",
      "18066  Politics not allowed outside of references to ...   \n",
      "18067  Politics not allowed outside of references to ...   \n",
      "\n",
      "                                           singleMessage  \n",
      "0      I had the same reasoning when I watch fox news...  \n",
      "1           Unethical fucks will always find a loophole.  \n",
      "2                                    Failed actual coup.  \n",
      "3                 Why is trump even in the news anymore?  \n",
      "4                 And it could be my head in a basket...  \n",
      "...                                                  ...  \n",
      "18063          lil'wayne got a pardon and not them ah ah  \n",
      "18064  So you think it will be called unconstitutiona...  \n",
      "18065  The left of America has out numbered the right...  \n",
      "18066  Everyone spread the word…I just set fire on water  \n",
      "18067  Starting to feel like congress should let DOJ ...  \n",
      "\n",
      "[18068 rows x 2 columns]\n"
     ]
    }
   ],
   "source": [
    "# Specify the correct columns\n",
    "correct_columns = ['reason', 'singleMessage']\n",
    "\n",
    "# Initialize an empty list to store valid DataFrames\n",
    "valid_dataframes = []\n",
    "\n",
    "# Read each CSV file and check if it contains the correct columns\n",
    "for file in FILE_MESSAGES:\n",
    "    df = pd.read_csv(file)\n",
    "    \n",
    "    if set(df.columns) == set(correct_columns):\n",
    "        valid_dataframes.append(df)\n",
    "        print(f\"{file} contains the correct columns.\")\n",
    "    else:\n",
    "        print(f\"{file} does not contain the correct columns.\")\n",
    "\n",
    "# Concatenate all valid DataFrames into a single DataFrame\n",
    "if valid_dataframes:\n",
    "    combined_df = pd.concat(valid_dataframes, ignore_index=True)\n",
    "    print(\"\\nCombined DataFrame:\")\n",
    "    print(combined_df)\n",
    "else:\n",
    "    print(\"\\nNo valid DataFrames found.\")"
   ]
  },
  {
   "cell_type": "code",
   "execution_count": null,
   "id": "fe971a47-fb4e-4843-9932-0265f901d248",
   "metadata": {},
   "outputs": [],
   "source": []
  },
  {
   "cell_type": "code",
   "execution_count": 7,
   "id": "2bbd562f-51d0-4b67-a28e-ac0923c84d0c",
   "metadata": {},
   "outputs": [
    {
     "data": {
      "text/html": [
       "<div>\n",
       "<style scoped>\n",
       "    .dataframe tbody tr th:only-of-type {\n",
       "        vertical-align: middle;\n",
       "    }\n",
       "\n",
       "    .dataframe tbody tr th {\n",
       "        vertical-align: top;\n",
       "    }\n",
       "\n",
       "    .dataframe thead th {\n",
       "        text-align: right;\n",
       "    }\n",
       "</style>\n",
       "<table border=\"1\" class=\"dataframe\">\n",
       "  <thead>\n",
       "    <tr style=\"text-align: right;\">\n",
       "      <th></th>\n",
       "      <th>reason</th>\n",
       "      <th>singleMessage</th>\n",
       "    </tr>\n",
       "  </thead>\n",
       "  <tbody>\n",
       "    <tr>\n",
       "      <th>0</th>\n",
       "      <td>Politics not allowed outside of references to ...</td>\n",
       "      <td>I had the same reasoning when I watch fox news...</td>\n",
       "    </tr>\n",
       "    <tr>\n",
       "      <th>1</th>\n",
       "      <td>Politics not allowed outside of references to ...</td>\n",
       "      <td>Unethical fucks will always find a loophole.</td>\n",
       "    </tr>\n",
       "    <tr>\n",
       "      <th>2</th>\n",
       "      <td>Politics not allowed outside of references to ...</td>\n",
       "      <td>Failed actual coup.</td>\n",
       "    </tr>\n",
       "    <tr>\n",
       "      <th>3</th>\n",
       "      <td>Politics not allowed outside of references to ...</td>\n",
       "      <td>Why is trump even in the news anymore?</td>\n",
       "    </tr>\n",
       "    <tr>\n",
       "      <th>4</th>\n",
       "      <td>Politics not allowed outside of references to ...</td>\n",
       "      <td>And it could be my head in a basket...</td>\n",
       "    </tr>\n",
       "    <tr>\n",
       "      <th>...</th>\n",
       "      <td>...</td>\n",
       "      <td>...</td>\n",
       "    </tr>\n",
       "    <tr>\n",
       "      <th>18063</th>\n",
       "      <td>Politics not allowed outside of references to ...</td>\n",
       "      <td>lil'wayne got a pardon and not them ah ah</td>\n",
       "    </tr>\n",
       "    <tr>\n",
       "      <th>18064</th>\n",
       "      <td>Politics not allowed outside of references to ...</td>\n",
       "      <td>So you think it will be called unconstitutiona...</td>\n",
       "    </tr>\n",
       "    <tr>\n",
       "      <th>18065</th>\n",
       "      <td>Politics not allowed outside of references to ...</td>\n",
       "      <td>The left of America has out numbered the right...</td>\n",
       "    </tr>\n",
       "    <tr>\n",
       "      <th>18066</th>\n",
       "      <td>Politics not allowed outside of references to ...</td>\n",
       "      <td>Everyone spread the word…I just set fire on water</td>\n",
       "    </tr>\n",
       "    <tr>\n",
       "      <th>18067</th>\n",
       "      <td>Politics not allowed outside of references to ...</td>\n",
       "      <td>Starting to feel like congress should let DOJ ...</td>\n",
       "    </tr>\n",
       "  </tbody>\n",
       "</table>\n",
       "<p>18068 rows × 2 columns</p>\n",
       "</div>"
      ],
      "text/plain": [
       "                                                  reason  \\\n",
       "0      Politics not allowed outside of references to ...   \n",
       "1      Politics not allowed outside of references to ...   \n",
       "2      Politics not allowed outside of references to ...   \n",
       "3      Politics not allowed outside of references to ...   \n",
       "4      Politics not allowed outside of references to ...   \n",
       "...                                                  ...   \n",
       "18063  Politics not allowed outside of references to ...   \n",
       "18064  Politics not allowed outside of references to ...   \n",
       "18065  Politics not allowed outside of references to ...   \n",
       "18066  Politics not allowed outside of references to ...   \n",
       "18067  Politics not allowed outside of references to ...   \n",
       "\n",
       "                                           singleMessage  \n",
       "0      I had the same reasoning when I watch fox news...  \n",
       "1           Unethical fucks will always find a loophole.  \n",
       "2                                    Failed actual coup.  \n",
       "3                 Why is trump even in the news anymore?  \n",
       "4                 And it could be my head in a basket...  \n",
       "...                                                  ...  \n",
       "18063          lil'wayne got a pardon and not them ah ah  \n",
       "18064  So you think it will be called unconstitutiona...  \n",
       "18065  The left of America has out numbered the right...  \n",
       "18066  Everyone spread the word…I just set fire on water  \n",
       "18067  Starting to feel like congress should let DOJ ...  \n",
       "\n",
       "[18068 rows x 2 columns]"
      ]
     },
     "metadata": {},
     "output_type": "display_data"
    }
   ],
   "source": [
    "display(combined_df)"
   ]
  },
  {
   "cell_type": "markdown",
   "id": "c3da08fa-66a4-4186-944f-deed8207fb5c",
   "metadata": {},
   "source": [
    "# Check Each File if columns are correct.\n"
   ]
  },
  {
   "cell_type": "code",
   "execution_count": null,
   "id": "bcd5cfdd-acc1-47a7-89db-e636639a84a2",
   "metadata": {},
   "outputs": [],
   "source": [
    "# TODO: If order of columns are correct, get messages.  Else, exit program.\n"
   ]
  },
  {
   "cell_type": "code",
   "execution_count": null,
   "id": "a35b0302-5498-4285-bfcc-c585eb53249f",
   "metadata": {},
   "outputs": [],
   "source": []
  }
 ],
 "metadata": {
  "kernelspec": {
   "display_name": "Python 3 (ipykernel)",
   "language": "python",
   "name": "python3"
  },
  "language_info": {
   "codemirror_mode": {
    "name": "ipython",
    "version": 3
   },
   "file_extension": ".py",
   "mimetype": "text/x-python",
   "name": "python",
   "nbconvert_exporter": "python",
   "pygments_lexer": "ipython3",
   "version": "3.9.6"
  }
 },
 "nbformat": 4,
 "nbformat_minor": 5
}
