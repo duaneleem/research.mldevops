{
 "cells": [
  {
   "cell_type": "markdown",
   "id": "b418beaf-8c6c-4c20-9a0b-cdb6cd14e561",
   "metadata": {},
   "source": [
    "# Overview\n",
    "\n",
    "We'll be shaping the clean data."
   ]
  },
  {
   "cell_type": "markdown",
   "id": "50f0c191-fbbd-4abb-a9aa-82dcbbe958e7",
   "metadata": {},
   "source": [
    "# Instantiate required Python components.\n",
    "\n",
    "Our project will use TensorFlow for developing our model.  We'll also need several other Python libraries to work with our CSV."
   ]
  },
  {
   "cell_type": "code",
   "execution_count": null,
   "id": "16abbfbf-2b5b-491e-9850-fc308d31237e",
   "metadata": {},
   "outputs": [],
   "source": [
    "import re\n",
    "import pandas as pd\n",
    "import csv\n",
    "import numpy as np\n",
    "\n",
    "# Used for Troubleshooting\n",
    "from IPython.display import display"
   ]
  },
  {
   "cell_type": "markdown",
   "id": "1b7712de-ab57-458a-b67c-e4b617ddcf71",
   "metadata": {},
   "source": [
    "# Set Hyperparameters\n",
    "\n",
    "Merge multiple files into one CSV.  Ensure that the columns are in the following order: reason, singleMessage"
   ]
  },
  {
   "cell_type": "code",
   "execution_count": null,
   "id": "9d808e3d-0a8d-4fbe-956a-c6ff154f87c3",
   "metadata": {},
   "outputs": [],
   "source": []
  },
  {
   "cell_type": "code",
   "execution_count": null,
   "id": "c56d70d2-84a9-42b2-a668-d48f3b17b303",
   "metadata": {},
   "outputs": [],
   "source": []
  },
  {
   "cell_type": "code",
   "execution_count": null,
   "id": "cf5999ac-966f-4600-bbd8-6d85a29ba031",
   "metadata": {},
   "outputs": [],
   "source": []
  },
  {
   "cell_type": "code",
   "execution_count": null,
   "id": "dcea1b06-a797-467e-91d3-12b0f378bb34",
   "metadata": {},
   "outputs": [],
   "source": []
  },
  {
   "cell_type": "code",
   "execution_count": null,
   "id": "85d4a84a-8583-4b50-843c-bf21350cede9",
   "metadata": {},
   "outputs": [],
   "source": []
  }
 ],
 "metadata": {
  "kernelspec": {
   "display_name": "Python 3 (ipykernel)",
   "language": "python",
   "name": "python3"
  },
  "language_info": {
   "codemirror_mode": {
    "name": "ipython",
    "version": 3
   },
   "file_extension": ".py",
   "mimetype": "text/x-python",
   "name": "python",
   "nbconvert_exporter": "python",
   "pygments_lexer": "ipython3",
   "version": "3.9.6"
  }
 },
 "nbformat": 4,
 "nbformat_minor": 5
}
