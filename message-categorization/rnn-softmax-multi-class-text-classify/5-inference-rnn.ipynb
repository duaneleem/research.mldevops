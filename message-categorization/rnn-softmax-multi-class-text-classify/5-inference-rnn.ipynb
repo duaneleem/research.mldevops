{
 "cells": [
  {
   "cell_type": "markdown",
   "id": "7f44af09-ffea-421b-9fb6-d44586490b62",
   "metadata": {},
   "source": [
    "# Overview\n",
    "\n",
    "We will load the model and infer data from it."
   ]
  },
  {
   "cell_type": "markdown",
   "id": "0392d3d5-d81e-4e20-a0ec-af2439f819b9",
   "metadata": {},
   "source": [
    "# Hyperparameters"
   ]
  },
  {
   "cell_type": "code",
   "execution_count": 5,
   "id": "a9e30538-88b3-47c9-96d1-86449a0fccf2",
   "metadata": {},
   "outputs": [],
   "source": [
    "# Tokenize and pad the text data\n",
    "max_len = 100  # Maximum length of input sequences"
   ]
  },
  {
   "cell_type": "markdown",
   "id": "886a2e28-f53a-4def-9c97-d391bfce3ac0",
   "metadata": {},
   "source": [
    "# Load Dependencies"
   ]
  },
  {
   "cell_type": "code",
   "execution_count": 1,
   "id": "94c2d329-166b-466f-a4ae-ed9791767c49",
   "metadata": {},
   "outputs": [
    {
     "name": "stderr",
     "output_type": "stream",
     "text": [
      "2024-07-02 04:50:52.773078: I tensorflow/core/platform/cpu_feature_guard.cc:193] This TensorFlow binary is optimized with oneAPI Deep Neural Network Library (oneDNN) to use the following CPU instructions in performance-critical operations:  AVX2 FMA\n",
      "To enable them in other operations, rebuild TensorFlow with the appropriate compiler flags.\n",
      "2024-07-02 04:50:52.888223: W tensorflow/compiler/xla/stream_executor/platform/default/dso_loader.cc:64] Could not load dynamic library 'libcudart.so.11.0'; dlerror: libcudart.so.11.0: cannot open shared object file: No such file or directory\n",
      "2024-07-02 04:50:52.888245: I tensorflow/compiler/xla/stream_executor/cuda/cudart_stub.cc:29] Ignore above cudart dlerror if you do not have a GPU set up on your machine.\n",
      "2024-07-02 04:50:53.563241: W tensorflow/compiler/xla/stream_executor/platform/default/dso_loader.cc:64] Could not load dynamic library 'libnvinfer.so.7'; dlerror: libnvinfer.so.7: cannot open shared object file: No such file or directory\n",
      "2024-07-02 04:50:53.563326: W tensorflow/compiler/xla/stream_executor/platform/default/dso_loader.cc:64] Could not load dynamic library 'libnvinfer_plugin.so.7'; dlerror: libnvinfer_plugin.so.7: cannot open shared object file: No such file or directory\n",
      "2024-07-02 04:50:53.563336: W tensorflow/compiler/tf2tensorrt/utils/py_utils.cc:38] TF-TRT Warning: Cannot dlopen some TensorRT libraries. If you would like to use Nvidia GPU with TensorRT, please make sure the missing libraries mentioned above are installed properly.\n"
     ]
    }
   ],
   "source": [
    "import tensorflow as tf\n",
    "import pickle\n",
    "from tensorflow.keras.preprocessing.sequence import pad_sequences"
   ]
  },
  {
   "cell_type": "markdown",
   "id": "ad838209-afb6-4612-b655-1ceecdf2953d",
   "metadata": {},
   "source": [
    "# Load Model and Objects\n",
    "\n"
   ]
  },
  {
   "cell_type": "code",
   "execution_count": 8,
   "id": "7eb794f7-ecde-4790-b0a5-79bddd69be35",
   "metadata": {},
   "outputs": [],
   "source": [
    "# Load the trained model\n",
    "model = tf.keras.models.load_model('models/train-rnn.h5')\n",
    "\n",
    "# Load other objects\n",
    "with open('objects/train-rnn.pkl', 'rb') as f:\n",
    "    tokenizer, label_encoder = pickle.load(f)"
   ]
  },
  {
   "cell_type": "markdown",
   "id": "2401aa9e-89a5-4fb0-8896-de5f7b826577",
   "metadata": {},
   "source": [
    "# Prediction"
   ]
  },
  {
   "cell_type": "code",
   "execution_count": 49,
   "id": "a142d543-80a8-41c4-8f4e-cd416a2c3381",
   "metadata": {},
   "outputs": [
    {
     "name": "stdout",
     "output_type": "stream",
     "text": [
      "1/1 [==============================] - 0s 21ms/step\n",
      "Clean: 0.9988\n"
     ]
    }
   ],
   "source": [
    "# Example message to predict\n",
    "new_message = [\"Anyone see a 5 min bull flag setting up on $PEGY?\"]\n",
    "\n",
    "# Preprocess the new message\n",
    "new_message_seq = tokenizer.texts_to_sequences(new_message)\n",
    "new_message_padded = pad_sequences(new_message_seq, maxlen=max_len)\n",
    "\n",
    "# Predict the class probabilities\n",
    "class_probabilities = model.predict(new_message_padded)\n",
    "\n",
    "# Sort the class probabilities in descending order along with their corresponding classes\n",
    "sorted_probabilities = sorted(zip(label_encoder.classes_, class_probabilities[0]), key=lambda x: x[1], reverse=True)\n",
    "\n",
    "# Set a threshold to filter out near-zero probabilities\n",
    "threshold = 0.01\n",
    "\n",
    "# Print the sorted class probabilities above the threshold\n",
    "for reason, probability in sorted_probabilities:\n",
    "    if probability > threshold:\n",
    "        print(f\"{reason}: {probability:.4f}\")\n"
   ]
  },
  {
   "cell_type": "code",
   "execution_count": null,
   "id": "db01493d-3605-46ad-a0cc-6131a8979dfd",
   "metadata": {},
   "outputs": [],
   "source": []
  }
 ],
 "metadata": {
  "kernelspec": {
   "display_name": "Python 3 (ipykernel)",
   "language": "python",
   "name": "python3"
  },
  "language_info": {
   "codemirror_mode": {
    "name": "ipython",
    "version": 3
   },
   "file_extension": ".py",
   "mimetype": "text/x-python",
   "name": "python",
   "nbconvert_exporter": "python",
   "pygments_lexer": "ipython3",
   "version": "3.9.6"
  }
 },
 "nbformat": 4,
 "nbformat_minor": 5
}
